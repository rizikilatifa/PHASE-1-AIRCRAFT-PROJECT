{
 "cells": [
  {
   "cell_type": "markdown",
   "id": "b4f0440a-fd04-4189-b82a-ac04840635bf",
   "metadata": {},
   "source": [
    "#  Cleared for Takeoff: A Data-Driven Risk Analysis for Strategic Aircraft Acquisition\n",
    "\n",
    "![airplane](./image/Airplane_in_sky.jpg)"
   ]
  },
  {
   "cell_type": "markdown",
   "id": "7149ab54-020e-4052-b333-9192f5881ebd",
   "metadata": {},
   "source": [
    "## Overview\n",
    "This project aims at analyzing data from the National Transportation Safety Board [Aviation accident database](https://www.kaggle.com/datasets/khsamaha/aviation-accident-database-synopses), which contains aviation accident records from 1962 to 2023, within the United States, its territories and possessions, and in international waters. The primary objective is to assess the safety of various aircraft to ensure our clients make well-informed and risk-conscious purchasing decisions as they expand into the aviation sector."
   ]
  },
  {
   "cell_type": "markdown",
   "id": "f3ea6be9-65d9-44a2-a926-13135eefe08a",
   "metadata": {
    "jp-MarkdownHeadingCollapsed": true
   },
   "source": [
    "\n",
    "## Business Understanding\n",
    "Our client is seeking to broaden their investment portfolio by entering new markets. They are particularly interested in acquiring and managing aircraft for both commercial and private use. As a data analyst, my objective is to identify the safest and most reliable aircraft options to support the company's entry into this aviation venture.\n",
    "![Airplane Takeoff](./image/airplane_takeoff.jpg)"
   ]
  },
  {
   "cell_type": "markdown",
   "id": "41e9c285-77de-43a8-8c25-e1bd715009c8",
   "metadata": {},
   "source": [
    "## Data Understanding\n",
    "The dataset used in this analysis is sourced from Kaggle: [Aviation Accident Database & Synopses (up to 2023)](https://www.kaggle.com/datasets/khsamaha/aviation-accident-database-synopses). It contains detailed records of aviation accidents investigated by the U.S. National Transportation Safety Board (NTSB) from 1962 to 2023. This information allows for a comprehensive analysis of accident patterns, helping us determine which aircraft types have the lowest risk profiles. Specifically, we will assess factors such as the number of engines, aircraft condition prior to takeoff, and geographical locations with higher accident frequencies. The goal is to identify trends and safety indicators that can guide the company in selecting safer aircraft for commercial and private operations."
   ]
  },
  {
   "cell_type": "code",
   "execution_count": 965,
   "id": "8284ca7f-5419-42e8-9919-9465133da678",
   "metadata": {},
   "outputs": [],
   "source": [
    "# import pandas to load the data and create dataframes, we use pandas methods to inspect the shape and other attributes of these data frames\n",
    "import pandas as pd"
   ]
  },
  {
   "cell_type": "code",
   "execution_count": 966,
   "id": "627e04e5-fb5d-4f99-be8c-9668bc1cf5a4",
   "metadata": {},
   "outputs": [
    {
     "data": {
      "text/html": [
       "<div>\n",
       "<style scoped>\n",
       "    .dataframe tbody tr th:only-of-type {\n",
       "        vertical-align: middle;\n",
       "    }\n",
       "\n",
       "    .dataframe tbody tr th {\n",
       "        vertical-align: top;\n",
       "    }\n",
       "\n",
       "    .dataframe thead th {\n",
       "        text-align: right;\n",
       "    }\n",
       "</style>\n",
       "<table border=\"1\" class=\"dataframe\">\n",
       "  <thead>\n",
       "    <tr style=\"text-align: right;\">\n",
       "      <th></th>\n",
       "      <th>Event.Id</th>\n",
       "      <th>Investigation.Type</th>\n",
       "      <th>Accident.Number</th>\n",
       "      <th>Event.Date</th>\n",
       "      <th>Location</th>\n",
       "      <th>Country</th>\n",
       "      <th>Latitude</th>\n",
       "      <th>Longitude</th>\n",
       "      <th>Airport.Code</th>\n",
       "      <th>Airport.Name</th>\n",
       "      <th>...</th>\n",
       "      <th>Purpose.of.flight</th>\n",
       "      <th>Air.carrier</th>\n",
       "      <th>Total.Fatal.Injuries</th>\n",
       "      <th>Total.Serious.Injuries</th>\n",
       "      <th>Total.Minor.Injuries</th>\n",
       "      <th>Total.Uninjured</th>\n",
       "      <th>Weather.Condition</th>\n",
       "      <th>Broad.phase.of.flight</th>\n",
       "      <th>Report.Status</th>\n",
       "      <th>Publication.Date</th>\n",
       "    </tr>\n",
       "  </thead>\n",
       "  <tbody>\n",
       "    <tr>\n",
       "      <th>0</th>\n",
       "      <td>20001218X45444</td>\n",
       "      <td>Accident</td>\n",
       "      <td>SEA87LA080</td>\n",
       "      <td>1948-10-24</td>\n",
       "      <td>MOOSE CREEK, ID</td>\n",
       "      <td>United States</td>\n",
       "      <td>NaN</td>\n",
       "      <td>NaN</td>\n",
       "      <td>NaN</td>\n",
       "      <td>NaN</td>\n",
       "      <td>...</td>\n",
       "      <td>Personal</td>\n",
       "      <td>NaN</td>\n",
       "      <td>2.0</td>\n",
       "      <td>0.0</td>\n",
       "      <td>0.0</td>\n",
       "      <td>0.0</td>\n",
       "      <td>UNK</td>\n",
       "      <td>Cruise</td>\n",
       "      <td>Probable Cause</td>\n",
       "      <td>NaN</td>\n",
       "    </tr>\n",
       "    <tr>\n",
       "      <th>1</th>\n",
       "      <td>20001218X45447</td>\n",
       "      <td>Accident</td>\n",
       "      <td>LAX94LA336</td>\n",
       "      <td>1962-07-19</td>\n",
       "      <td>BRIDGEPORT, CA</td>\n",
       "      <td>United States</td>\n",
       "      <td>NaN</td>\n",
       "      <td>NaN</td>\n",
       "      <td>NaN</td>\n",
       "      <td>NaN</td>\n",
       "      <td>...</td>\n",
       "      <td>Personal</td>\n",
       "      <td>NaN</td>\n",
       "      <td>4.0</td>\n",
       "      <td>0.0</td>\n",
       "      <td>0.0</td>\n",
       "      <td>0.0</td>\n",
       "      <td>UNK</td>\n",
       "      <td>Unknown</td>\n",
       "      <td>Probable Cause</td>\n",
       "      <td>19-09-1996</td>\n",
       "    </tr>\n",
       "    <tr>\n",
       "      <th>2</th>\n",
       "      <td>20061025X01555</td>\n",
       "      <td>Accident</td>\n",
       "      <td>NYC07LA005</td>\n",
       "      <td>1974-08-30</td>\n",
       "      <td>Saltville, VA</td>\n",
       "      <td>United States</td>\n",
       "      <td>36.922223</td>\n",
       "      <td>-81.878056</td>\n",
       "      <td>NaN</td>\n",
       "      <td>NaN</td>\n",
       "      <td>...</td>\n",
       "      <td>Personal</td>\n",
       "      <td>NaN</td>\n",
       "      <td>3.0</td>\n",
       "      <td>NaN</td>\n",
       "      <td>NaN</td>\n",
       "      <td>NaN</td>\n",
       "      <td>IMC</td>\n",
       "      <td>Cruise</td>\n",
       "      <td>Probable Cause</td>\n",
       "      <td>26-02-2007</td>\n",
       "    </tr>\n",
       "    <tr>\n",
       "      <th>3</th>\n",
       "      <td>20001218X45448</td>\n",
       "      <td>Accident</td>\n",
       "      <td>LAX96LA321</td>\n",
       "      <td>1977-06-19</td>\n",
       "      <td>EUREKA, CA</td>\n",
       "      <td>United States</td>\n",
       "      <td>NaN</td>\n",
       "      <td>NaN</td>\n",
       "      <td>NaN</td>\n",
       "      <td>NaN</td>\n",
       "      <td>...</td>\n",
       "      <td>Personal</td>\n",
       "      <td>NaN</td>\n",
       "      <td>2.0</td>\n",
       "      <td>0.0</td>\n",
       "      <td>0.0</td>\n",
       "      <td>0.0</td>\n",
       "      <td>IMC</td>\n",
       "      <td>Cruise</td>\n",
       "      <td>Probable Cause</td>\n",
       "      <td>12-09-2000</td>\n",
       "    </tr>\n",
       "    <tr>\n",
       "      <th>4</th>\n",
       "      <td>20041105X01764</td>\n",
       "      <td>Accident</td>\n",
       "      <td>CHI79FA064</td>\n",
       "      <td>1979-08-02</td>\n",
       "      <td>Canton, OH</td>\n",
       "      <td>United States</td>\n",
       "      <td>NaN</td>\n",
       "      <td>NaN</td>\n",
       "      <td>NaN</td>\n",
       "      <td>NaN</td>\n",
       "      <td>...</td>\n",
       "      <td>Personal</td>\n",
       "      <td>NaN</td>\n",
       "      <td>1.0</td>\n",
       "      <td>2.0</td>\n",
       "      <td>NaN</td>\n",
       "      <td>0.0</td>\n",
       "      <td>VMC</td>\n",
       "      <td>Approach</td>\n",
       "      <td>Probable Cause</td>\n",
       "      <td>16-04-1980</td>\n",
       "    </tr>\n",
       "  </tbody>\n",
       "</table>\n",
       "<p>5 rows × 31 columns</p>\n",
       "</div>"
      ],
      "text/plain": [
       "         Event.Id Investigation.Type Accident.Number  Event.Date  \\\n",
       "0  20001218X45444           Accident      SEA87LA080  1948-10-24   \n",
       "1  20001218X45447           Accident      LAX94LA336  1962-07-19   \n",
       "2  20061025X01555           Accident      NYC07LA005  1974-08-30   \n",
       "3  20001218X45448           Accident      LAX96LA321  1977-06-19   \n",
       "4  20041105X01764           Accident      CHI79FA064  1979-08-02   \n",
       "\n",
       "          Location        Country   Latitude   Longitude Airport.Code  \\\n",
       "0  MOOSE CREEK, ID  United States        NaN         NaN          NaN   \n",
       "1   BRIDGEPORT, CA  United States        NaN         NaN          NaN   \n",
       "2    Saltville, VA  United States  36.922223  -81.878056          NaN   \n",
       "3       EUREKA, CA  United States        NaN         NaN          NaN   \n",
       "4       Canton, OH  United States        NaN         NaN          NaN   \n",
       "\n",
       "  Airport.Name  ... Purpose.of.flight Air.carrier Total.Fatal.Injuries  \\\n",
       "0          NaN  ...          Personal         NaN                  2.0   \n",
       "1          NaN  ...          Personal         NaN                  4.0   \n",
       "2          NaN  ...          Personal         NaN                  3.0   \n",
       "3          NaN  ...          Personal         NaN                  2.0   \n",
       "4          NaN  ...          Personal         NaN                  1.0   \n",
       "\n",
       "  Total.Serious.Injuries Total.Minor.Injuries Total.Uninjured  \\\n",
       "0                    0.0                  0.0             0.0   \n",
       "1                    0.0                  0.0             0.0   \n",
       "2                    NaN                  NaN             NaN   \n",
       "3                    0.0                  0.0             0.0   \n",
       "4                    2.0                  NaN             0.0   \n",
       "\n",
       "  Weather.Condition  Broad.phase.of.flight   Report.Status Publication.Date  \n",
       "0               UNK                 Cruise  Probable Cause              NaN  \n",
       "1               UNK                Unknown  Probable Cause       19-09-1996  \n",
       "2               IMC                 Cruise  Probable Cause       26-02-2007  \n",
       "3               IMC                 Cruise  Probable Cause       12-09-2000  \n",
       "4               VMC               Approach  Probable Cause       16-04-1980  \n",
       "\n",
       "[5 rows x 31 columns]"
      ]
     },
     "execution_count": 966,
     "metadata": {},
     "output_type": "execute_result"
    }
   ],
   "source": [
    "#used encoding latin1 because maybe our data contains special characters that cannot be read with 'utf-8'\n",
    "#load the csv file using alias pd\n",
    "aircraft_data = pd.read_csv('AviationData.csv', encoding = 'latin1', low_memory=False)# tells pandas to read the whole file first then determine the best datatype for each column\n",
    "aircraft_data.head()"
   ]
  },
  {
   "cell_type": "code",
   "execution_count": 967,
   "id": "3e22ca8c-9189-4ed9-880b-8f7e88f30086",
   "metadata": {},
   "outputs": [
    {
     "name": "stdout",
     "output_type": "stream",
     "text": [
      "<class 'pandas.core.frame.DataFrame'>\n",
      "RangeIndex: 88889 entries, 0 to 88888\n",
      "Data columns (total 31 columns):\n",
      " #   Column                  Non-Null Count  Dtype  \n",
      "---  ------                  --------------  -----  \n",
      " 0   Event.Id                88889 non-null  object \n",
      " 1   Investigation.Type      88889 non-null  object \n",
      " 2   Accident.Number         88889 non-null  object \n",
      " 3   Event.Date              88889 non-null  object \n",
      " 4   Location                88837 non-null  object \n",
      " 5   Country                 88663 non-null  object \n",
      " 6   Latitude                34382 non-null  object \n",
      " 7   Longitude               34373 non-null  object \n",
      " 8   Airport.Code            50132 non-null  object \n",
      " 9   Airport.Name            52704 non-null  object \n",
      " 10  Injury.Severity         87889 non-null  object \n",
      " 11  Aircraft.damage         85695 non-null  object \n",
      " 12  Aircraft.Category       32287 non-null  object \n",
      " 13  Registration.Number     87507 non-null  object \n",
      " 14  Make                    88826 non-null  object \n",
      " 15  Model                   88797 non-null  object \n",
      " 16  Amateur.Built           88787 non-null  object \n",
      " 17  Number.of.Engines       82805 non-null  float64\n",
      " 18  Engine.Type             81793 non-null  object \n",
      " 19  FAR.Description         32023 non-null  object \n",
      " 20  Schedule                12582 non-null  object \n",
      " 21  Purpose.of.flight       82697 non-null  object \n",
      " 22  Air.carrier             16648 non-null  object \n",
      " 23  Total.Fatal.Injuries    77488 non-null  float64\n",
      " 24  Total.Serious.Injuries  76379 non-null  float64\n",
      " 25  Total.Minor.Injuries    76956 non-null  float64\n",
      " 26  Total.Uninjured         82977 non-null  float64\n",
      " 27  Weather.Condition       84397 non-null  object \n",
      " 28  Broad.phase.of.flight   61724 non-null  object \n",
      " 29  Report.Status           82505 non-null  object \n",
      " 30  Publication.Date        75118 non-null  object \n",
      "dtypes: float64(5), object(26)\n",
      "memory usage: 21.0+ MB\n"
     ]
    }
   ],
   "source": [
    "#Check the data types for each columns\n",
    "aircraft_data.info()"
   ]
  },
  {
   "cell_type": "markdown",
   "id": "370714c3-7fb1-449d-be8a-8da17bd099aa",
   "metadata": {},
   "source": [
    "# Info analysis\n",
    "From the information above, the dataset contains a total of 88,889 entries and 31 columns. By reviewing an overview of the data, we can identify which columns contain null values and make informed decisions on which ones to retain or drop.\n",
    "Now check the relevance of each column to our goal."
   ]
  },
  {
   "cell_type": "code",
   "execution_count": 969,
   "id": "7adf2ea6-5d97-4866-a681-71fbf79d71a1",
   "metadata": {},
   "outputs": [
    {
     "data": {
      "text/plain": [
       "Event.Id                   0.000000\n",
       "Investigation.Type         0.000000\n",
       "Accident.Number            0.000000\n",
       "Event.Date                 0.000000\n",
       "Location                   0.058500\n",
       "Country                    0.254250\n",
       "Latitude                  61.320298\n",
       "Longitude                 61.330423\n",
       "Airport.Code              43.601570\n",
       "Airport.Name              40.708074\n",
       "Injury.Severity            1.124999\n",
       "Aircraft.damage            3.593246\n",
       "Aircraft.Category         63.677170\n",
       "Registration.Number        1.554748\n",
       "Make                       0.070875\n",
       "Model                      0.103500\n",
       "Amateur.Built              0.114750\n",
       "Number.of.Engines          6.844491\n",
       "Engine.Type                7.982990\n",
       "FAR.Description           63.974170\n",
       "Schedule                  85.845268\n",
       "Purpose.of.flight          6.965991\n",
       "Air.carrier               81.271023\n",
       "Total.Fatal.Injuries      12.826109\n",
       "Total.Serious.Injuries    14.073732\n",
       "Total.Minor.Injuries      13.424608\n",
       "Total.Uninjured            6.650992\n",
       "Weather.Condition          5.053494\n",
       "Broad.phase.of.flight     30.560587\n",
       "Report.Status              7.181991\n",
       "Publication.Date          15.492356\n",
       "dtype: float64"
      ]
     },
     "execution_count": 969,
     "metadata": {},
     "output_type": "execute_result"
    }
   ],
   "source": [
    "# checking for the percentage of null values in each column\n",
    "aircraft_data.isna().mean()*100"
   ]
  },
  {
   "cell_type": "markdown",
   "id": "2575b63a-03ba-4f31-bd81-d610afa90c54",
   "metadata": {},
   "source": [
    "# Dropping Columns"
   ]
  },
  {
   "cell_type": "markdown",
   "id": "703c3453-5d5a-4564-8979-1a500d1ea460",
   "metadata": {},
   "source": [
    "Columns such as `Air.carrier` have approximately 81% missing values, and `Schedule` has around 85% missing values. Let’s now evaluate their relevance to determine whether they should be retained or dropped from the dataset."
   ]
  },
  {
   "cell_type": "code",
   "execution_count": 972,
   "id": "df12e688-d860-4d11-8cff-68a98833aaef",
   "metadata": {},
   "outputs": [],
   "source": [
    "#drop the Air.Carrier and schedule column due to its higher percentage of missing values\n",
    "aircraft_data.drop(['Air.carrier','Schedule'], axis= 1, inplace=True)"
   ]
  },
  {
   "cell_type": "code",
   "execution_count": 973,
   "id": "764b44c2-bc34-4fbc-8a3b-ab7d83b6308b",
   "metadata": {},
   "outputs": [
    {
     "name": "stdout",
     "output_type": "stream",
     "text": [
      "<class 'pandas.core.frame.DataFrame'>\n",
      "RangeIndex: 88889 entries, 0 to 88888\n",
      "Data columns (total 29 columns):\n",
      " #   Column                  Non-Null Count  Dtype  \n",
      "---  ------                  --------------  -----  \n",
      " 0   Event.Id                88889 non-null  object \n",
      " 1   Investigation.Type      88889 non-null  object \n",
      " 2   Accident.Number         88889 non-null  object \n",
      " 3   Event.Date              88889 non-null  object \n",
      " 4   Location                88837 non-null  object \n",
      " 5   Country                 88663 non-null  object \n",
      " 6   Latitude                34382 non-null  object \n",
      " 7   Longitude               34373 non-null  object \n",
      " 8   Airport.Code            50132 non-null  object \n",
      " 9   Airport.Name            52704 non-null  object \n",
      " 10  Injury.Severity         87889 non-null  object \n",
      " 11  Aircraft.damage         85695 non-null  object \n",
      " 12  Aircraft.Category       32287 non-null  object \n",
      " 13  Registration.Number     87507 non-null  object \n",
      " 14  Make                    88826 non-null  object \n",
      " 15  Model                   88797 non-null  object \n",
      " 16  Amateur.Built           88787 non-null  object \n",
      " 17  Number.of.Engines       82805 non-null  float64\n",
      " 18  Engine.Type             81793 non-null  object \n",
      " 19  FAR.Description         32023 non-null  object \n",
      " 20  Purpose.of.flight       82697 non-null  object \n",
      " 21  Total.Fatal.Injuries    77488 non-null  float64\n",
      " 22  Total.Serious.Injuries  76379 non-null  float64\n",
      " 23  Total.Minor.Injuries    76956 non-null  float64\n",
      " 24  Total.Uninjured         82977 non-null  float64\n",
      " 25  Weather.Condition       84397 non-null  object \n",
      " 26  Broad.phase.of.flight   61724 non-null  object \n",
      " 27  Report.Status           82505 non-null  object \n",
      " 28  Publication.Date        75118 non-null  object \n",
      "dtypes: float64(5), object(24)\n",
      "memory usage: 19.7+ MB\n"
     ]
    }
   ],
   "source": [
    "aircraft_data.info()"
   ]
  },
  {
   "cell_type": "markdown",
   "id": "36c9d0c0-90e6-4f3d-84af-467aba037750",
   "metadata": {},
   "source": [
    "# Making Sure columns We are interested in are Uniform and dealing with null values\n"
   ]
  },
  {
   "cell_type": "markdown",
   "id": "bfe86bbe-0435-4b30-972f-34337d6983d6",
   "metadata": {},
   "source": [
    "## `Weather` Column"
   ]
  },
  {
   "cell_type": "code",
   "execution_count": 976,
   "id": "0ba9c188-529a-4720-b912-783132a04b4a",
   "metadata": {},
   "outputs": [
    {
     "data": {
      "text/plain": [
       "Weather.Condition\n",
       "VMC    77303\n",
       "IMC     5976\n",
       "UNK      856\n",
       "Unk      262\n",
       "Name: count, dtype: int64"
      ]
     },
     "execution_count": 976,
     "metadata": {},
     "output_type": "execute_result"
    }
   ],
   "source": [
    "aircraft_data['Weather.Condition'].value_counts()"
   ]
  },
  {
   "cell_type": "markdown",
   "id": "1b20de1d-dde4-401e-87e3-ec652580f968",
   "metadata": {},
   "source": [
    "From the above output `UNK` and `unk`are the same just diffrent capitalization. we make the uniform by `.str.upper()`method"
   ]
  },
  {
   "cell_type": "code",
   "execution_count": 978,
   "id": "0c8ee3d3-a909-445d-b41e-f5689ed72e8b",
   "metadata": {},
   "outputs": [],
   "source": [
    "aircraft_data['Weather.Condition']=aircraft_data['Weather.Condition'].str.upper()"
   ]
  },
  {
   "cell_type": "markdown",
   "id": "6daac2b1-f69b-45d3-8beb-f17a54111b4d",
   "metadata": {},
   "source": [
    "Filled the nan values with VMC since its the most frequent"
   ]
  },
  {
   "cell_type": "code",
   "execution_count": 980,
   "id": "9232dbe3-41ff-460c-b154-8c43a1c26adc",
   "metadata": {},
   "outputs": [],
   "source": [
    "# filling the nan values with most frequent\n",
    "aircraft_data['Weather.Condition']=aircraft_data['Weather.Condition'].fillna('VMC')"
   ]
  },
  {
   "cell_type": "markdown",
   "id": "6f311057-7da3-40bf-9f79-4a7ab3dd31b5",
   "metadata": {},
   "source": [
    "## `Make` Column"
   ]
  },
  {
   "cell_type": "code",
   "execution_count": 982,
   "id": "269ab732-e410-4583-9250-06ad0d92461e",
   "metadata": {},
   "outputs": [
    {
     "data": {
      "text/plain": [
       "Make\n",
       "Cessna             22227\n",
       "Piper              12029\n",
       "CESSNA              4922\n",
       "Beech               4330\n",
       "PIPER               2841\n",
       "                   ...  \n",
       "Leonard Walters        1\n",
       "Maule Air Inc.         1\n",
       "Motley Vans            1\n",
       "Perlick                1\n",
       "ROYSE RALPH L          1\n",
       "Name: count, Length: 8237, dtype: int64"
      ]
     },
     "execution_count": 982,
     "metadata": {},
     "output_type": "execute_result"
    }
   ],
   "source": [
    "#code to look at the unique types of Makes\n",
    "aircraft_data['Make'].value_counts()"
   ]
  },
  {
   "cell_type": "markdown",
   "id": "9b08618b-36cc-4d0d-b8ca-277fa7d6e5c0",
   "metadata": {},
   "source": [
    "From the output above, `Cessna` and `CESSNA` refer to the same make, but with different capitalizations. We will standardize the `Make` column by applying the `.title()` method"
   ]
  },
  {
   "cell_type": "code",
   "execution_count": 984,
   "id": "02d7b112-db2e-44e3-bbe0-81f66b33c136",
   "metadata": {},
   "outputs": [],
   "source": [
    "# making the names in Make be uniform \n",
    "aircraft_data['Make']=aircraft_data['Make'].str.title()\n"
   ]
  },
  {
   "cell_type": "markdown",
   "id": "be988c45-a018-4c16-bc2f-741913339a28",
   "metadata": {},
   "source": [
    "## `Purpose of flight` Column"
   ]
  },
  {
   "cell_type": "code",
   "execution_count": 986,
   "id": "bac24b5e-5bf0-4eb5-8f81-5c12860abb57",
   "metadata": {},
   "outputs": [
    {
     "data": {
      "text/plain": [
       "Purpose.of.flight\n",
       "Personal                     49448\n",
       "Instructional                10601\n",
       "Unknown                       6802\n",
       "Aerial Application            4712\n",
       "Business                      4018\n",
       "Positioning                   1646\n",
       "Other Work Use                1264\n",
       "Ferry                          812\n",
       "Aerial Observation             794\n",
       "Public Aircraft                720\n",
       "Executive/corporate            553\n",
       "Flight Test                    405\n",
       "Skydiving                      182\n",
       "External Load                  123\n",
       "Public Aircraft - Federal      105\n",
       "Banner Tow                     101\n",
       "Air Race show                   99\n",
       "Public Aircraft - Local         74\n",
       "Public Aircraft - State         64\n",
       "Air Race/show                   59\n",
       "Glider Tow                      53\n",
       "Firefighting                    40\n",
       "Air Drop                        11\n",
       "ASHO                             6\n",
       "PUBS                             4\n",
       "PUBL                             1\n",
       "Name: count, dtype: int64"
      ]
     },
     "execution_count": 986,
     "metadata": {},
     "output_type": "execute_result"
    }
   ],
   "source": [
    "aircraft_data['Purpose.of.flight'].value_counts()"
   ]
  },
  {
   "cell_type": "code",
   "execution_count": 987,
   "id": "51403205-b7db-4b4f-97a0-08a17d867069",
   "metadata": {},
   "outputs": [],
   "source": [
    "aircraft_data['Purpose.of.flight'] =aircraft_data['Purpose.of.flight'].fillna('Personal')\n"
   ]
  },
  {
   "cell_type": "markdown",
   "id": "908918f0-7196-4b15-9d55-1ffe72c8d244",
   "metadata": {},
   "source": [
    "Missing values in the `Purpose.of.flight` columns were filled with `Personal` since it was the most frequent category, representing the majority of the data "
   ]
  },
  {
   "cell_type": "markdown",
   "id": "3b805a69-5731-4bb7-a8b6-985639c4eb8f",
   "metadata": {},
   "source": [
    "## `Engine Type` Column"
   ]
  },
  {
   "cell_type": "code",
   "execution_count": 990,
   "id": "8368f654-6cf5-4faa-ae7e-161b74617142",
   "metadata": {},
   "outputs": [
    {
     "data": {
      "text/plain": [
       "Engine.Type\n",
       "Reciprocating      69530\n",
       "Turbo Shaft         3609\n",
       "Turbo Prop          3391\n",
       "Turbo Fan           2481\n",
       "Unknown             2051\n",
       "Turbo Jet            703\n",
       "Geared Turbofan       12\n",
       "Electric              10\n",
       "LR                     2\n",
       "NONE                   2\n",
       "Hybrid Rocket          1\n",
       "UNK                    1\n",
       "Name: count, dtype: int64"
      ]
     },
     "execution_count": 990,
     "metadata": {},
     "output_type": "execute_result"
    }
   ],
   "source": [
    "aircraft_data['Engine.Type'].value_counts()"
   ]
  },
  {
   "cell_type": "markdown",
   "id": "876beab2-c9fe-4aed-82d0-1c797145952e",
   "metadata": {},
   "source": [
    "# Checking for Correlation betweeen Numeric Data\n",
    "I was interested in checking whether `Amateur Built` is correlated with the `Type.Of.investigation`. To do this, I'll need to convert the columns to numeric format."
   ]
  },
  {
   "cell_type": "code",
   "execution_count": 992,
   "id": "e2db2118-83ac-4586-8df9-985a1837ce4b",
   "metadata": {},
   "outputs": [],
   "source": [
    "#Change the amateur built into a numbers \n",
    "aircraft_data['Amateur.Built']=aircraft_data['Amateur.Built'].map({'Yes': 1, 'No':0})"
   ]
  },
  {
   "cell_type": "code",
   "execution_count": 993,
   "id": "00605893-2553-4eba-96b3-2d1dc82dcf5d",
   "metadata": {},
   "outputs": [],
   "source": [
    "#Change the Investigation types to numbers \n",
    "aircraft_data['Investigation.Type']=aircraft_data['Investigation.Type'].map({'Accident': 1, 'Incident':0})"
   ]
  },
  {
   "cell_type": "code",
   "execution_count": 994,
   "id": "51ce1c7e-ed31-41ff-937a-68dc2036648a",
   "metadata": {},
   "outputs": [
    {
     "data": {
      "text/html": [
       "<div>\n",
       "<style scoped>\n",
       "    .dataframe tbody tr th:only-of-type {\n",
       "        vertical-align: middle;\n",
       "    }\n",
       "\n",
       "    .dataframe tbody tr th {\n",
       "        vertical-align: top;\n",
       "    }\n",
       "\n",
       "    .dataframe thead th {\n",
       "        text-align: right;\n",
       "    }\n",
       "</style>\n",
       "<table border=\"1\" class=\"dataframe\">\n",
       "  <thead>\n",
       "    <tr style=\"text-align: right;\">\n",
       "      <th></th>\n",
       "      <th>Investigation.Type</th>\n",
       "      <th>Amateur.Built</th>\n",
       "      <th>Number.of.Engines</th>\n",
       "      <th>Total.Fatal.Injuries</th>\n",
       "      <th>Total.Serious.Injuries</th>\n",
       "      <th>Total.Minor.Injuries</th>\n",
       "      <th>Total.Uninjured</th>\n",
       "    </tr>\n",
       "  </thead>\n",
       "  <tbody>\n",
       "    <tr>\n",
       "      <th>Investigation.Type</th>\n",
       "      <td>1.000000</td>\n",
       "      <td>0.061804</td>\n",
       "      <td>-0.370518</td>\n",
       "      <td>0.024367</td>\n",
       "      <td>0.025172</td>\n",
       "      <td>-0.000623</td>\n",
       "      <td>-0.348089</td>\n",
       "    </tr>\n",
       "    <tr>\n",
       "      <th>Amateur.Built</th>\n",
       "      <td>0.061804</td>\n",
       "      <td>1.000000</td>\n",
       "      <td>-0.106847</td>\n",
       "      <td>-0.012407</td>\n",
       "      <td>-0.001795</td>\n",
       "      <td>-0.003396</td>\n",
       "      <td>-0.049998</td>\n",
       "    </tr>\n",
       "    <tr>\n",
       "      <th>Number.of.Engines</th>\n",
       "      <td>-0.370518</td>\n",
       "      <td>-0.106847</td>\n",
       "      <td>1.000000</td>\n",
       "      <td>0.098505</td>\n",
       "      <td>0.046157</td>\n",
       "      <td>0.098162</td>\n",
       "      <td>0.406058</td>\n",
       "    </tr>\n",
       "    <tr>\n",
       "      <th>Total.Fatal.Injuries</th>\n",
       "      <td>0.024367</td>\n",
       "      <td>-0.012407</td>\n",
       "      <td>0.098505</td>\n",
       "      <td>1.000000</td>\n",
       "      <td>0.135724</td>\n",
       "      <td>0.073559</td>\n",
       "      <td>-0.015214</td>\n",
       "    </tr>\n",
       "    <tr>\n",
       "      <th>Total.Serious.Injuries</th>\n",
       "      <td>0.025172</td>\n",
       "      <td>-0.001795</td>\n",
       "      <td>0.046157</td>\n",
       "      <td>0.135724</td>\n",
       "      <td>1.000000</td>\n",
       "      <td>0.326849</td>\n",
       "      <td>0.052869</td>\n",
       "    </tr>\n",
       "    <tr>\n",
       "      <th>Total.Minor.Injuries</th>\n",
       "      <td>-0.000623</td>\n",
       "      <td>-0.003396</td>\n",
       "      <td>0.098162</td>\n",
       "      <td>0.073559</td>\n",
       "      <td>0.326849</td>\n",
       "      <td>1.000000</td>\n",
       "      <td>0.147770</td>\n",
       "    </tr>\n",
       "    <tr>\n",
       "      <th>Total.Uninjured</th>\n",
       "      <td>-0.348089</td>\n",
       "      <td>-0.049998</td>\n",
       "      <td>0.406058</td>\n",
       "      <td>-0.015214</td>\n",
       "      <td>0.052869</td>\n",
       "      <td>0.147770</td>\n",
       "      <td>1.000000</td>\n",
       "    </tr>\n",
       "  </tbody>\n",
       "</table>\n",
       "</div>"
      ],
      "text/plain": [
       "                        Investigation.Type  Amateur.Built  Number.of.Engines  \\\n",
       "Investigation.Type                1.000000       0.061804          -0.370518   \n",
       "Amateur.Built                     0.061804       1.000000          -0.106847   \n",
       "Number.of.Engines                -0.370518      -0.106847           1.000000   \n",
       "Total.Fatal.Injuries              0.024367      -0.012407           0.098505   \n",
       "Total.Serious.Injuries            0.025172      -0.001795           0.046157   \n",
       "Total.Minor.Injuries             -0.000623      -0.003396           0.098162   \n",
       "Total.Uninjured                  -0.348089      -0.049998           0.406058   \n",
       "\n",
       "                        Total.Fatal.Injuries  Total.Serious.Injuries  \\\n",
       "Investigation.Type                  0.024367                0.025172   \n",
       "Amateur.Built                      -0.012407               -0.001795   \n",
       "Number.of.Engines                   0.098505                0.046157   \n",
       "Total.Fatal.Injuries                1.000000                0.135724   \n",
       "Total.Serious.Injuries              0.135724                1.000000   \n",
       "Total.Minor.Injuries                0.073559                0.326849   \n",
       "Total.Uninjured                    -0.015214                0.052869   \n",
       "\n",
       "                        Total.Minor.Injuries  Total.Uninjured  \n",
       "Investigation.Type                 -0.000623        -0.348089  \n",
       "Amateur.Built                      -0.003396        -0.049998  \n",
       "Number.of.Engines                   0.098162         0.406058  \n",
       "Total.Fatal.Injuries                0.073559        -0.015214  \n",
       "Total.Serious.Injuries              0.326849         0.052869  \n",
       "Total.Minor.Injuries                1.000000         0.147770  \n",
       "Total.Uninjured                     0.147770         1.000000  "
      ]
     },
     "execution_count": 994,
     "metadata": {},
     "output_type": "execute_result"
    }
   ],
   "source": [
    "#Checking correlation between numeric data\n",
    "aircraft_data.corr(numeric_only=True)"
   ]
  },
  {
   "cell_type": "markdown",
   "id": "52aff2a7-f17f-45e2-b7bb-5236c2764963",
   "metadata": {},
   "source": [
    "Cheking the correlation between numeric data there are negative correlations and weak corelation"
   ]
  },
  {
   "cell_type": "markdown",
   "id": "9e6c637a-80c2-4fe1-a907-b43bc8d7d1fa",
   "metadata": {},
   "source": [
    "# Cheking the Frequencies of Damages"
   ]
  },
  {
   "cell_type": "code",
   "execution_count": 997,
   "id": "dccb5e0e-c4d0-4b99-be4c-edd315e72320",
   "metadata": {},
   "outputs": [],
   "source": [
    "#checking type of damages \n",
    "damage_counts=aircraft_data['Aircraft.damage'].value_counts()"
   ]
  },
  {
   "cell_type": "code",
   "execution_count": 998,
   "id": "4f578df3-d6ca-4d38-94ff-0df6b795d7f6",
   "metadata": {},
   "outputs": [],
   "source": [
    "# import matplotlib to draw graph and shows a plot inside Jupyter notebook\n",
    "import matplotlib.pyplot as plt\n",
    "%matplotlib inline"
   ]
  },
  {
   "cell_type": "code",
   "execution_count": 1173,
   "id": "f7d3d18e-46f1-472b-a3f8-fa76b80e0e7f",
   "metadata": {},
   "outputs": [
    {
     "data": {
      "image/png": "[encoded data removed]",
      "text/plain": [
       "<Figure size 640x480 with 1 Axes>"
      ]
     },
     "metadata": {},
     "output_type": "display_data"
    }
   ],
   "source": [
    "plt.bar(damage_counts.index, damage_counts.values,edgecolor='black', color= 'violet')\n",
    "plt.xlabel('Aircraft damage')\n",
    "plt.ylabel('Frequency of damages')\n",
    "plt.title(' Frequencies of damages')\n",
    "plt.show()"
   ]
  },
  {
   "cell_type": "markdown",
   "id": "afb3dcd4-bbb2-4e68-aef6-6e0e89346ba4",
   "metadata": {},
   "source": [
    "## Creating a DataFrame with minor damages only"
   ]
  },
  {
   "cell_type": "code",
   "execution_count": 1136,
   "id": "0015a5a2-d2ec-4a3b-a937-524e53ee659c",
   "metadata": {},
   "outputs": [],
   "source": [
    "minor_damage_df= aircraft_data[aircraft_data['Aircraft.damage']=='Minor'].copy()"
   ]
  },
  {
   "cell_type": "markdown",
   "id": "9c6eb67e-d00d-45e5-a828-ba41e210d6a3",
   "metadata": {},
   "source": [
    "## Variable of makes with minor Damages"
   ]
  },
  {
   "cell_type": "code",
   "execution_count": 1003,
   "id": "21b8c958-90fd-458f-981a-bc15214a5571",
   "metadata": {},
   "outputs": [
    {
     "data": {
      "text/plain": [
       "Make\n",
       "Boeing               711\n",
       "Cessna               387\n",
       "Piper                204\n",
       "Beech                170\n",
       "Mcdonnell Douglas    162\n",
       "                    ... \n",
       "Fitz                   1\n",
       "Aviat                  1\n",
       "Avian                  1\n",
       "Buchmann               1\n",
       "Diamond Aircraft       1\n",
       "Name: count, Length: 314, dtype: int64"
      ]
     },
     "execution_count": 1003,
     "metadata": {},
     "output_type": "execute_result"
    }
   ],
   "source": [
    "#create a variable that shows how many times each aircraft had a minor damage\n",
    "Makes_with_minor_damage= minor_damage_df['Make'].value_counts()\n",
    "Makes_with_minor_damage"
   ]
  },
  {
   "cell_type": "code",
   "execution_count": 1004,
   "id": "d078ecf1-19cd-4669-8289-be43c1a1a4c9",
   "metadata": {},
   "outputs": [
    {
     "data": {
      "image/png": "[encoded data removed]",
      "text/plain": [
       "<Figure size 1000x600 with 1 Axes>"
      ]
     },
     "metadata": {},
     "output_type": "display_data"
    }
   ],
   "source": [
    "# bar chart to show makes with lower damages\n",
    "top_makes = Makes_with_minor_damage.head(10)\n",
    "plt.figure(figsize=(10,6))\n",
    "plt.bar(top_makes.index, top_makes.values,edgecolor='black')\n",
    "plt.xlabel('Aircraft Make ')\n",
    "plt.ylabel('Number of Minor Damages')\n",
    "plt.title('Top 10 Aircraft Makes with Minor Damage')\n",
    "plt.show()"
   ]
  },
  {
   "cell_type": "markdown",
   "id": "842bb9ff-76b9-4fd5-a14e-a0b27cab82ec",
   "metadata": {},
   "source": [
    "Based on the graph, Boeing appears to be the most favorable make to consider, as it is associated with a lower risk, indicated by a higher number of incidents involving only minor damage.\n",
    "This suggests that Boeing aircraft may be more durable or better equipped to withstand incidents with minimal impact, making them a potentially safer investment for the company’s entry into the aviation industry."
   ]
  },
  {
   "cell_type": "markdown",
   "id": "3b2dab6f-6aea-4787-8a50-d12e623dbc2d",
   "metadata": {},
   "source": [
    "## Creating A Variable of Models with Minor Damage"
   ]
  },
  {
   "cell_type": "code",
   "execution_count": 1007,
   "id": "15008f56-38d4-4803-8bab-5e2dfececade",
   "metadata": {},
   "outputs": [
    {
     "data": {
      "text/plain": [
       "Model\n",
       "737            124\n",
       "747             38\n",
       "777             32\n",
       "152             29\n",
       "402C            24\n",
       "              ... \n",
       "180C             1\n",
       "182-P            1\n",
       "AA-5B            1\n",
       "A-300-605R       1\n",
       "BD-700-2A12      1\n",
       "Name: count, Length: 1366, dtype: int64"
      ]
     },
     "execution_count": 1007,
     "metadata": {},
     "output_type": "execute_result"
    }
   ],
   "source": [
    "# crate a variable that shows the model with minor damages\n",
    "Model_with_minor_damage= minor_damage_df['Model'].value_counts()\n",
    "Model_with_minor_damage"
   ]
  },
  {
   "cell_type": "code",
   "execution_count": 1127,
   "id": "5b55d10f-80e1-4ab9-9ea4-e9c774b8fa44",
   "metadata": {},
   "outputs": [
    {
     "data": {
      "image/png": "[encoded data removed]",
      "text/plain": [
       "<Figure size 1000x600 with 1 Axes>"
      ]
     },
     "metadata": {},
     "output_type": "display_data"
    }
   ],
   "source": [
    "# Bar chart to indicate models with minor damanges\n",
    "top_models= Model_with_minor_damage.head(10)\n",
    "plt.figure(figsize=(10,6))\n",
    "plt.bar(top_models.index, top_models.values,edgecolor='black',color='orange')\n",
    "plt.xlabel('Aircraft Model ')\n",
    "plt.ylabel('Number of Minor Damages')\n",
    "plt.title('Top 10 Aircraft Models with Minor Damage')\n",
    "plt.show()"
   ]
  },
  {
   "cell_type": "markdown",
   "id": "a74f8664-1ed8-4a78-a3be-ce4a9471a226",
   "metadata": {},
   "source": [
    "From the graph above, the 737 model has the highest number of minor damage incidents, making it the most promising option for the company to consider. \n",
    "Now we we will choose the make and the model with the highest number of minor Damages to be aour best option to consider"
   ]
  },
  {
   "cell_type": "code",
   "execution_count": 1134,
   "id": "c4785cfb-933b-4f9b-9a59-9bc39ef30267",
   "metadata": {},
   "outputs": [],
   "source": [
    "# create a dataframe with make being boeing and model 737\n",
    "aircraft_minor_risk_df=minor_damage_df[(minor_damage_df['Make']== 'Boeing') & (minor_damage_df['Model']=='737')].copy()"
   ]
  },
  {
   "cell_type": "markdown",
   "id": "5a9efe6d-828d-4edd-ac20-71131e0b13cf",
   "metadata": {},
   "source": [
    "## Checking Engine Type"
   ]
  },
  {
   "cell_type": "code",
   "execution_count": 1012,
   "id": "48e97d21-2ff9-4be6-96a9-0328ec5a71cc",
   "metadata": {},
   "outputs": [
    {
     "data": {
      "text/plain": [
       "Engine.Type\n",
       "Turbo Fan    8\n",
       "Name: count, dtype: int64"
      ]
     },
     "execution_count": 1012,
     "metadata": {},
     "output_type": "execute_result"
    }
   ],
   "source": [
    "#Checking the number of unique engine types\n",
    "aircraft_minor_risk_df['Engine.Type'].value_counts()"
   ]
  },
  {
   "cell_type": "code",
   "execution_count": 1013,
   "id": "5da43b3c-363f-401a-b08a-88e4ecbad4c2",
   "metadata": {},
   "outputs": [],
   "source": [
    "## fill the non values with Turbo Fan\n",
    "aircraft_minor_risk_df['Engine.Type']=aircraft_minor_risk_df['Engine.Type'].fillna('Turbo Fan')"
   ]
  },
  {
   "cell_type": "code",
   "execution_count": 1014,
   "id": "8b8f36ca-8e58-4853-9309-b47878c81b0c",
   "metadata": {},
   "outputs": [],
   "source": [
    "## fill the non values with Turbo Fan\n",
    "minor_damage_df.loc[(minor_damage_df['Make']=='Boeing') & (minor_damage_df['Engine.Type'].isna() & minor_damage_df['Model']=='737'),'Engine.Type']= 'Turbo Fan'"
   ]
  },
  {
   "cell_type": "markdown",
   "id": "4a753c9b-5e96-4725-bd3f-5b7ef4b6f76a",
   "metadata": {},
   "source": [
    "\n",
    "We have filled the missing values `Engine.Type` with `Turbo Fan` based on research confirming that the Boeing 737 uses the Turbo fan engine [Boeing 737](https://en.wikipedia.org/wiki/Boeing_737?utm_source) . "
   ]
  },
  {
   "cell_type": "markdown",
   "id": "4a76a814-a962-42d2-81d3-51ec0d4a7cd8",
   "metadata": {},
   "source": [
    "# Number of engines\n",
    "![Aircraft Engine](./image/airplane_engine.jpg)"
   ]
  },
  {
   "cell_type": "code",
   "execution_count": 1017,
   "id": "add962e2-6481-4a33-9c0c-4eca18afcd4d",
   "metadata": {},
   "outputs": [
    {
     "data": {
      "text/plain": [
       "Number.of.Engines\n",
       "2.0    30\n",
       "Name: count, dtype: int64"
      ]
     },
     "execution_count": 1017,
     "metadata": {},
     "output_type": "execute_result"
    }
   ],
   "source": [
    "#Checking the number of enginees our safe aircraft should have \n",
    "aircraft_minor_risk_df['Number.of.Engines'].value_counts()"
   ]
  },
  {
   "cell_type": "code",
   "execution_count": 1018,
   "id": "f8aeaadb-8fcc-43e9-a907-6f0044969b5c",
   "metadata": {},
   "outputs": [],
   "source": [
    "aircraft_minor_risk_df['Number.of.Engines']=aircraft_minor_risk_df['Number.of.Engines'].fillna(2.0)"
   ]
  },
  {
   "cell_type": "markdown",
   "id": "0b565e60-70b3-45c3-9058-6d60a82d6aaa",
   "metadata": {},
   "source": [
    "Missing values in the Number.of.Engines column have been filled with 2.0, based on verified information from [Wikipedia](https://en.wikipedia.org/wiki/Boeing_737_Next_Generation#:~:text=The%20Boeing%20737%20Next%20Generation,has%20been%20produced%20since%201997.&text=The%20737%2D800%20is%20the%20best%2Dselling%20737NG%20variant.), which confirms that all Boeing 737 aircraft are equipped with two engines. This imputation ensures data consistency and aligns with the known specifications of the aircraft model."
   ]
  },
  {
   "cell_type": "markdown",
   "id": "6148ba0d-b1a5-408d-8ee7-99e7e155e1f8",
   "metadata": {},
   "source": [
    "## Weather Condition with Higher number of damages "
   ]
  },
  {
   "cell_type": "code",
   "execution_count": 1021,
   "id": "818b6acf-66f0-45ab-842f-60f653ba276e",
   "metadata": {},
   "outputs": [
    {
     "data": {
      "text/plain": [
       "Weather.Condition\n",
       "VMC    121\n",
       "IMC      2\n",
       "UNK      1\n",
       "Name: count, dtype: int64"
      ]
     },
     "execution_count": 1021,
     "metadata": {},
     "output_type": "execute_result"
    }
   ],
   "source": [
    "aircraft_minor_risk_df['Weather.Condition'].value_counts()"
   ]
  },
  {
   "cell_type": "markdown",
   "id": "c5f77d6d-8c76-46d9-ac42-a3d8a784732f",
   "metadata": {},
   "source": [
    "A number of incidents occurred under favorable weather conditions `VMC`. This suggests that weather may not have been the primary contributing factor in these cases. Further analysis is needed to explore other contributing factors such as pilot experience, mechanical failure, or maintenance history.\""
   ]
  },
  {
   "cell_type": "markdown",
   "id": "c83800a0-3f79-4308-80e3-07ec285a865b",
   "metadata": {},
   "source": [
    "## Getting the report and cause of accident/Incident\n"
   ]
  },
  {
   "cell_type": "code",
   "execution_count": 1024,
   "id": "7cfb60dd-8e11-4671-9f58-a18845c9afb9",
   "metadata": {},
   "outputs": [
    {
     "name": "stdout",
     "output_type": "stream",
     "text": [
      "The failure of the MLG was due to cracking in the cylinder wall resulting from a fatigue mechanism which initiated at, and near the inner diameter (ID) surface, with propagation through the wall toward the outer diameter(OD) surface. Crack initiation was due to base metal damage which took the form of over tempered martensite (OTM) and chemical attack/pitting of the base metal.\n",
      "The right nose landing gear axle's failure from intergranular and fatigue cracking due to an earlier bearing failure.\n",
      "The pilot's inadvertent application of excessive braking after touchdown, which caused the right wheels to lock and several tires to blow and resulted in a subsequent brake fire.\n",
      "The failure of the right main landing gear inboard axle due to fatigue cracking as a result of fretting damage in one of the brake mounting bolt holes.\n",
      "<br /><br />\n",
      "<br /><br />\n",
      "<br /><br />\n",
      "<br /><br />\n",
      "The gate lead/pushback driver's failure to recognize that the provisioning truck was within the safety zone of the gate during his walkaround due to distractions, which resulted in the subsequent collision between the airplane and the truck. Contributing to the collision was the provisioning truck driver's failure to recognize he was parked in the safety zone of an active gate adjacent to his assigned gate, and the guide agent's improper assumption that the safety zone was properly cleared by the gate lead/pushback driver.\n",
      "N925NN flight crew's incorrect evaluation of the clearance between the two aircraft, leading to the inadvertent collision of the winglet with the horizontal stabilizer and elevator of N784SW.\n"
     ]
    },
    {
     "data": {
      "text/plain": [
       "[None, None, None, None, None, None, None, None, None, None]"
      ]
     },
     "execution_count": 1024,
     "metadata": {},
     "output_type": "execute_result"
    }
   ],
   "source": [
    "#using list comprehension to get reports \n",
    "unique_reports= [print(report) for  report in (aircraft_minor_risk_df['Report.Status'].dropna())]\n",
    "unique_reports"
   ]
  },
  {
   "cell_type": "code",
   "execution_count": 1025,
   "id": "15c4817c-9ce0-44a7-8ad4-36cb6e7f8e71",
   "metadata": {},
   "outputs": [
    {
     "data": {
      "text/plain": [
       "Purpose.of.flight\n",
       "Personal    123\n",
       "Business      1\n",
       "Name: count, dtype: int64"
      ]
     },
     "execution_count": 1025,
     "metadata": {},
     "output_type": "execute_result"
    }
   ],
   "source": [
    "aircraft_minor_risk_df['Purpose.of.flight'].value_counts()"
   ]
  },
  {
   "cell_type": "code",
   "execution_count": 1026,
   "id": "149f3361-5ae6-46ed-a9c0-743aeb38d03f",
   "metadata": {},
   "outputs": [],
   "source": [
    "aircraft_minor_risk_df['Purpose.of.flight']=aircraft_minor_risk_df['Purpose.of.flight'].replace('Personal', 'Business')\n"
   ]
  },
  {
   "cell_type": "markdown",
   "id": "06b757ca-dd27-426a-9bf2-2050d0196a37",
   "metadata": {},
   "source": [
    "Reason for this, after doing research The boring 737 is commercial airliner designed and manufuctured by the Boeng Company. More info on this  [Boeing 737](https://www.ebsco.com/research-starters/science/boeing-737#:~:text=Boeing%20737-,The%20Boeing%20737%20is%20a%20twinjet%20narrow%2Dbody%20commercial%20airliner,history%20of%20commercial%20air%20travel.)"
   ]
  },
  {
   "cell_type": "code",
   "execution_count": 1197,
   "id": "768a41af-2fb3-4c7a-9453-c082f52a700b",
   "metadata": {},
   "outputs": [
    {
     "data": {
      "image/png": "[encoded data removed]",
      "text/plain": [
       "<Figure size 1000x600 with 1 Axes>"
      ]
     },
     "metadata": {},
     "output_type": "display_data"
    }
   ],
   "source": [
    "# change the 'Event.date' to a datetime format\n",
    "aircraft_minor_risk_df['Event.Date']=pd.to_datetime(aircraft_minor_risk_df['Event.Date'])\n",
    "# Extract the year\n",
    "aircraft_minor_risk_df['Event.Year'] = aircraft_minor_risk_df['Event.Date'].dt.year\n",
    "# filter for incidents only\n",
    "incidents_df=aircraft_minor_risk_df[aircraft_minor_risk_df['Investigation.Type'] ==0]\n",
    "#count incidents per year\n",
    "incidents_per_year= incidents_df['Event.Year'].value_counts().sort_index()\n",
    "#plot\n",
    "fig, ax =plt.subplots(figsize=(10,6))\n",
    "incidents_per_year.plot(kind='line', ax=ax, marker = 'o') \n",
    "ax.set_xlabel('Year')\n",
    "ax.set_ylabel('Number of Incidents')\n",
    "ax.set_title('Number of incidents over the years')\n",
    "plt.show()"
   ]
  },
  {
   "cell_type": "markdown",
   "id": "ff3f9c2f-f807-4daf-ac53-416c6346e044",
   "metadata": {},
   "source": [
    "The highest incidents were in 2017 and 2019"
   ]
  },
  {
   "cell_type": "markdown",
   "id": "35982e5c-f298-4fe5-a907-8cc68493feea",
   "metadata": {},
   "source": [
    "## Checking best Aircraft for Personal purposes"
   ]
  },
  {
   "cell_type": "code",
   "execution_count": 1195,
   "id": "720c1b79-31f0-4116-95df-aa6c60529479",
   "metadata": {},
   "outputs": [
    {
     "data": {
      "image/png": "[encoded data removed]",
      "text/plain": [
       "<Figure size 1000x600 with 1 Axes>"
      ]
     },
     "metadata": {},
     "output_type": "display_data"
    }
   ],
   "source": [
    "accidents_df=aircraft_minor_risk_df[aircraft_minor_risk_df['Investigation.Type'] ==1]\n",
    "#count incidents per year\n",
    "accidents_per_year= accidents_df['Event.Year'].value_counts().sort_index()\n",
    "#plot\n",
    "fig, ax =plt.subplots(figsize=(10,6))\n",
    "accidents_per_year.plot(kind='barh', ax=ax,color='blue') \n",
    "ax.set_xlabel('Year')\n",
    "ax.set_ylabel('Number of accidents')\n",
    "ax.set_title('Number of accidents over the years')\n",
    "plt.show()"
   ]
  },
  {
   "cell_type": "markdown",
   "id": "95f8aa8b-6645-414d-8f62-22c6aa651fd0",
   "metadata": {},
   "source": [
    "The number of accident seem to occur concurrently in the year 2017,2018 and 2019. We can do research to know what changes were made that maybe caused this consistent accidents"
   ]
  },
  {
   "cell_type": "markdown",
   "id": "2a10e3d7-beb0-4ac1-9d99-728d16cf8621",
   "metadata": {},
   "source": [
    "## Creating a data frame with Purpose of flight being `Personal`"
   ]
  },
  {
   "cell_type": "markdown",
   "id": "f006688c-0f99-4c5e-8fdc-4fc215b4b88c",
   "metadata": {},
   "source": [
    "Applying changes made to our Boeing 737 to the `minor_damage_df` DataFrame"
   ]
  },
  {
   "cell_type": "code",
   "execution_count": 1030,
   "id": "5f7975f7-5839-48ab-90df-6d6527b80fa8",
   "metadata": {},
   "outputs": [],
   "source": [
    "minor_damage_df.loc[(minor_damage_df['Make']=='Boeing') & (minor_damage_df['Engine.Type'].isna() & minor_damage_df['Model']=='737'),'Engine.Type']= 'Turbo Fan'"
   ]
  },
  {
   "cell_type": "code",
   "execution_count": 1031,
   "id": "26c0b9c2-578b-4577-b320-a2c40a148f80",
   "metadata": {},
   "outputs": [],
   "source": [
    "minor_damage_df.loc[(minor_damage_df['Make']=='Boeing') & (minor_damage_df['Model']=='737'),'Purpose.of.flight']= 'Business'"
   ]
  },
  {
   "cell_type": "code",
   "execution_count": 1032,
   "id": "101c250c-4cf0-4e05-8d75-3bd76ca2df1c",
   "metadata": {},
   "outputs": [],
   "source": [
    "minor_damage_df.loc[(minor_damage_df['Make']=='Boeing') & (minor_damage_df['Number.of.Engines'].isna()),'Number.of.Engines']= 2.0"
   ]
  },
  {
   "cell_type": "code",
   "execution_count": 1033,
   "id": "dc7eda17-2633-4292-ac79-db3a56053977",
   "metadata": {},
   "outputs": [],
   "source": [
    "minor_personal_damage=minor_damage_df[minor_damage_df['Purpose.of.flight']=='Personal']"
   ]
  },
  {
   "cell_type": "code",
   "execution_count": 1034,
   "id": "5230e7d6-93e1-4b80-8e43-f26be72c1d51",
   "metadata": {},
   "outputs": [
    {
     "data": {
      "text/plain": [
       "Make\n",
       "Boeing      292\n",
       "Cessna      181\n",
       "Piper        83\n",
       "Beech        61\n",
       "Airbus       58\n",
       "           ... \n",
       "Aviat         1\n",
       "Avian         1\n",
       "Buchmann      1\n",
       "Franz         1\n",
       "Ayres         1\n",
       "Name: count, Length: 226, dtype: int64"
      ]
     },
     "execution_count": 1034,
     "metadata": {},
     "output_type": "execute_result"
    }
   ],
   "source": [
    "# Checking personal aircraft with minor damages\n",
    "minor_personal_damage['Make'].value_counts()"
   ]
  },
  {
   "cell_type": "code",
   "execution_count": 1035,
   "id": "bc469084-a60d-4380-8799-bfc02ac11210",
   "metadata": {},
   "outputs": [
    {
     "data": {
      "text/plain": [
       "Model\n",
       "747            35\n",
       "777            30\n",
       "CL-600-2B19    17\n",
       "767            15\n",
       "757            13\n",
       "               ..\n",
       "200C            1\n",
       "CL600-2B19      1\n",
       "747-100         1\n",
       "T6G             1\n",
       "BD-700-2A12     1\n",
       "Name: count, Length: 759, dtype: int64"
      ]
     },
     "execution_count": 1035,
     "metadata": {},
     "output_type": "execute_result"
    }
   ],
   "source": [
    "#Model with  minor damages\n",
    "minor_personal_damage['Model'].value_counts()"
   ]
  },
  {
   "cell_type": "markdown",
   "id": "d101295f-4694-4753-a3bc-527ab79d35e4",
   "metadata": {},
   "source": [
    "Dataframe with Make being `Boeing` and model `747`"
   ]
  },
  {
   "cell_type": "code",
   "execution_count": 1132,
   "id": "1321a2ad-cab2-413d-99ef-8cb52cba838c",
   "metadata": {},
   "outputs": [],
   "source": [
    "personal_747_df=minor_personal_damage[(minor_personal_damage['Model']== '747') & (minor_personal_damage['Make']=='Boeing')].copy()"
   ]
  },
  {
   "cell_type": "code",
   "execution_count": 1098,
   "id": "9eb9c95a-d22d-4578-9ee5-4f7b52094d51",
   "metadata": {},
   "outputs": [
    {
     "data": {
      "text/plain": [
       "Engine.Type\n",
       "Turbo Fan    10\n",
       "Name: count, dtype: int64"
      ]
     },
     "execution_count": 1098,
     "metadata": {},
     "output_type": "execute_result"
    }
   ],
   "source": [
    "#Checking The type of engine\n",
    "personal_747_df['Engine.Type'].value_counts()"
   ]
  },
  {
   "cell_type": "code",
   "execution_count": 1100,
   "id": "11cf6388-32a6-482b-8448-ddda5701f55a",
   "metadata": {},
   "outputs": [],
   "source": [
    "personal_747_df['Engine.Type']=personal_747_df['Engine.Type'].fillna('Turbo Fan')"
   ]
  },
  {
   "cell_type": "markdown",
   "id": "5bbec7af-7092-41e8-839d-89636ab61d76",
   "metadata": {},
   "source": [
    "Reason for this is Boeing 747 uses Turbo Fan. More info in [Boeing 747 Design](https://www.boeing.com/commercial/747-8/design-highlights#technologically-advanced)"
   ]
  },
  {
   "cell_type": "code",
   "execution_count": 1105,
   "id": "a604a225-bb60-4457-89bd-f93a6130b32a",
   "metadata": {},
   "outputs": [
    {
     "data": {
      "text/plain": [
       "Number.of.Engines\n",
       "4.0    18\n",
       "2.0    17\n",
       "Name: count, dtype: int64"
      ]
     },
     "execution_count": 1105,
     "metadata": {},
     "output_type": "execute_result"
    }
   ],
   "source": [
    "#Checking Number of Engines \n",
    "personal_747_df['Number.of.Engines'].value_counts()"
   ]
  },
  {
   "cell_type": "code",
   "execution_count": 1112,
   "id": "ae7ea9bd-d3c1-4b6d-a6fa-6a609eb39b5a",
   "metadata": {},
   "outputs": [
    {
     "data": {
      "text/plain": [
       "Number.of.Engines  Investigation.Type\n",
       "2.0                0                     17\n",
       "4.0                0                     15\n",
       "                   1                      3\n",
       "Name: count, dtype: int64"
      ]
     },
     "execution_count": 1112,
     "metadata": {},
     "output_type": "execute_result"
    }
   ],
   "source": [
    "# getting the number of engines with the type of accident/incident\n",
    "personal_747_df[['Number.of.Engines','Investigation.Type']].value_counts()"
   ]
  },
  {
   "cell_type": "markdown",
   "id": "9f669294-51b1-4e1d-a873-0da4a9e0fbde",
   "metadata": {},
   "source": [
    "From the above output we can conclude that both the Turbo Fan with 2 engines and 4 engines are safe. Shows that incidents are more frequent than accidents which is possibly a good sign for aviation safety"
   ]
  },
  {
   "cell_type": "code",
   "execution_count": 1123,
   "id": "af9f7c2b-44f8-4750-8a03-6c5ad89798c4",
   "metadata": {},
   "outputs": [
    {
     "data": {
      "image/png": "[encoded data removed]",
      "text/plain": [
       "<Figure size 800x600 with 1 Axes>"
      ]
     },
     "metadata": {},
     "output_type": "display_data"
    }
   ],
   "source": [
    "# Step 1: Group and count combinations of Engine count vs Type of investigation\n",
    "engine_investigation_counts = personal_747_df.groupby(['Number.of.Engines', 'Investigation.Type']).size().unstack(fill_value=0)\n",
    "\n",
    "# Step 2: Rename the columns for clarity\n",
    "engine_investigation_counts.columns = ['Incident (0)', 'Accident (1)']\n",
    "\n",
    "# Step 3: Plot using fig and ax\n",
    "fig, ax = plt.subplots(figsize=(8, 6))\n",
    "engine_investigation_counts.plot(kind='bar', ax=ax, color=['skyblue', 'salmon'])\n",
    "\n",
    "# Step 4: Customize the plot\n",
    "ax.set_title('Incidents and Accidents by Number of Engines')\n",
    "ax.set_xlabel('Number of Engines')\n",
    "ax.set_ylabel('Count')\n",
    "ax.legend(title='Type of Investigation')\n",
    "ax.set_xticklabels(engine_investigation_counts.index.astype(str), rotation=0)\n",
    "\n",
    "# Step 5: Show the plot\n",
    "plt.tight_layout()\n",
    "plt.show()\n",
    "\n"
   ]
  },
  {
   "cell_type": "markdown",
   "id": "11a80431-9f48-4f33-8480-e445bae865fc",
   "metadata": {},
   "source": [
    "This also confirms the above observation that a missing engine may be associated with higherr risk."
   ]
  },
  {
   "cell_type": "code",
   "execution_count": 1145,
   "id": "9198a234-b8b5-43d2-9561-a4a8d9278704",
   "metadata": {},
   "outputs": [
    {
     "data": {
      "text/html": [
       "<div>\n",
       "<style scoped>\n",
       "    .dataframe tbody tr th:only-of-type {\n",
       "        vertical-align: middle;\n",
       "    }\n",
       "\n",
       "    .dataframe tbody tr th {\n",
       "        vertical-align: top;\n",
       "    }\n",
       "\n",
       "    .dataframe thead th {\n",
       "        text-align: right;\n",
       "    }\n",
       "</style>\n",
       "<table border=\"1\" class=\"dataframe\">\n",
       "  <thead>\n",
       "    <tr style=\"text-align: right;\">\n",
       "      <th></th>\n",
       "      <th>Event.Id</th>\n",
       "      <th>Investigation.Type</th>\n",
       "      <th>Accident.Number</th>\n",
       "      <th>Event.Date</th>\n",
       "      <th>Location</th>\n",
       "      <th>Country</th>\n",
       "      <th>Latitude</th>\n",
       "      <th>Longitude</th>\n",
       "      <th>Airport.Code</th>\n",
       "      <th>Airport.Name</th>\n",
       "      <th>...</th>\n",
       "      <th>FAR.Description</th>\n",
       "      <th>Purpose.of.flight</th>\n",
       "      <th>Total.Fatal.Injuries</th>\n",
       "      <th>Total.Serious.Injuries</th>\n",
       "      <th>Total.Minor.Injuries</th>\n",
       "      <th>Total.Uninjured</th>\n",
       "      <th>Weather.Condition</th>\n",
       "      <th>Broad.phase.of.flight</th>\n",
       "      <th>Report.Status</th>\n",
       "      <th>Publication.Date</th>\n",
       "    </tr>\n",
       "  </thead>\n",
       "  <tbody>\n",
       "    <tr>\n",
       "      <th>4150</th>\n",
       "      <td>20001214X42478</td>\n",
       "      <td>0</td>\n",
       "      <td>LAX83IA149A</td>\n",
       "      <td>1983-03-18</td>\n",
       "      <td>LOS ANGELES, CA</td>\n",
       "      <td>United States</td>\n",
       "      <td>NaN</td>\n",
       "      <td>NaN</td>\n",
       "      <td>LAX</td>\n",
       "      <td>LOS ANGELES INTL</td>\n",
       "      <td>...</td>\n",
       "      <td>Part 129: Foreign</td>\n",
       "      <td>Personal</td>\n",
       "      <td>NaN</td>\n",
       "      <td>NaN</td>\n",
       "      <td>NaN</td>\n",
       "      <td>588.0</td>\n",
       "      <td>VMC</td>\n",
       "      <td>Taxi</td>\n",
       "      <td>Probable Cause</td>\n",
       "      <td>04-12-2014</td>\n",
       "    </tr>\n",
       "    <tr>\n",
       "      <th>52199</th>\n",
       "      <td>20090625X31711</td>\n",
       "      <td>0</td>\n",
       "      <td>DCA02RA024</td>\n",
       "      <td>2002-03-01</td>\n",
       "      <td>Sydney, Australia</td>\n",
       "      <td>Australia</td>\n",
       "      <td>NaN</td>\n",
       "      <td>NaN</td>\n",
       "      <td>SDY</td>\n",
       "      <td>Sydney</td>\n",
       "      <td>...</td>\n",
       "      <td>Non-U.S., Commercial</td>\n",
       "      <td>Personal</td>\n",
       "      <td>NaN</td>\n",
       "      <td>NaN</td>\n",
       "      <td>NaN</td>\n",
       "      <td>NaN</td>\n",
       "      <td>VMC</td>\n",
       "      <td>NaN</td>\n",
       "      <td>Foreign</td>\n",
       "      <td>07-07-2009</td>\n",
       "    </tr>\n",
       "    <tr>\n",
       "      <th>60171</th>\n",
       "      <td>20090617X33239</td>\n",
       "      <td>0</td>\n",
       "      <td>ENG06WA009</td>\n",
       "      <td>2006-02-01</td>\n",
       "      <td>Istanbul, Turkey</td>\n",
       "      <td>Turkey</td>\n",
       "      <td>NaN</td>\n",
       "      <td>NaN</td>\n",
       "      <td>IST</td>\n",
       "      <td>Istanbul, Turkey</td>\n",
       "      <td>...</td>\n",
       "      <td>Non-U.S., Commercial</td>\n",
       "      <td>Personal</td>\n",
       "      <td>NaN</td>\n",
       "      <td>NaN</td>\n",
       "      <td>NaN</td>\n",
       "      <td>NaN</td>\n",
       "      <td>VMC</td>\n",
       "      <td>NaN</td>\n",
       "      <td>Foreign</td>\n",
       "      <td>29-06-2009</td>\n",
       "    </tr>\n",
       "    <tr>\n",
       "      <th>64387</th>\n",
       "      <td>20081003X63355</td>\n",
       "      <td>0</td>\n",
       "      <td>ENG08IA022</td>\n",
       "      <td>2008-04-20</td>\n",
       "      <td>Newark, NJ</td>\n",
       "      <td>United States</td>\n",
       "      <td>404427N</td>\n",
       "      <td>0741014W</td>\n",
       "      <td>EWR</td>\n",
       "      <td>Newark Liberty International</td>\n",
       "      <td>...</td>\n",
       "      <td>121</td>\n",
       "      <td>Personal</td>\n",
       "      <td>0.0</td>\n",
       "      <td>0.0</td>\n",
       "      <td>0.0</td>\n",
       "      <td>5.0</td>\n",
       "      <td>VMC</td>\n",
       "      <td>NaN</td>\n",
       "      <td>An engine fire in the No. 3 engine due to the ...</td>\n",
       "      <td>25-09-2020</td>\n",
       "    </tr>\n",
       "    <tr>\n",
       "      <th>67558</th>\n",
       "      <td>20100106X21356</td>\n",
       "      <td>0</td>\n",
       "      <td>ENG10RA009</td>\n",
       "      <td>2009-12-17</td>\n",
       "      <td>Changi Airport, Senegal</td>\n",
       "      <td>Senegal</td>\n",
       "      <td>NaN</td>\n",
       "      <td>NaN</td>\n",
       "      <td>NaN</td>\n",
       "      <td>NaN</td>\n",
       "      <td>...</td>\n",
       "      <td>NUSC</td>\n",
       "      <td>Personal</td>\n",
       "      <td>0.0</td>\n",
       "      <td>0.0</td>\n",
       "      <td>0.0</td>\n",
       "      <td>0.0</td>\n",
       "      <td>VMC</td>\n",
       "      <td>NaN</td>\n",
       "      <td>NaN</td>\n",
       "      <td>03-11-2020</td>\n",
       "    </tr>\n",
       "  </tbody>\n",
       "</table>\n",
       "<p>5 rows × 29 columns</p>\n",
       "</div>"
      ],
      "text/plain": [
       "             Event.Id  Investigation.Type Accident.Number  Event.Date  \\\n",
       "4150   20001214X42478                   0     LAX83IA149A  1983-03-18   \n",
       "52199  20090625X31711                   0      DCA02RA024  2002-03-01   \n",
       "60171  20090617X33239                   0      ENG06WA009  2006-02-01   \n",
       "64387  20081003X63355                   0      ENG08IA022  2008-04-20   \n",
       "67558  20100106X21356                   0      ENG10RA009  2009-12-17   \n",
       "\n",
       "                      Location        Country Latitude Longitude Airport.Code  \\\n",
       "4150           LOS ANGELES, CA  United States      NaN       NaN          LAX   \n",
       "52199        Sydney, Australia      Australia      NaN       NaN          SDY   \n",
       "60171         Istanbul, Turkey         Turkey      NaN       NaN          IST   \n",
       "64387               Newark, NJ  United States  404427N  0741014W          EWR   \n",
       "67558  Changi Airport, Senegal        Senegal      NaN       NaN          NaN   \n",
       "\n",
       "                       Airport.Name  ...       FAR.Description  \\\n",
       "4150               LOS ANGELES INTL  ...     Part 129: Foreign   \n",
       "52199                        Sydney  ...  Non-U.S., Commercial   \n",
       "60171              Istanbul, Turkey  ...  Non-U.S., Commercial   \n",
       "64387  Newark Liberty International  ...                   121   \n",
       "67558                           NaN  ...                  NUSC   \n",
       "\n",
       "      Purpose.of.flight Total.Fatal.Injuries Total.Serious.Injuries  \\\n",
       "4150           Personal                  NaN                    NaN   \n",
       "52199          Personal                  NaN                    NaN   \n",
       "60171          Personal                  NaN                    NaN   \n",
       "64387          Personal                  0.0                    0.0   \n",
       "67558          Personal                  0.0                    0.0   \n",
       "\n",
       "      Total.Minor.Injuries Total.Uninjured  Weather.Condition  \\\n",
       "4150                   NaN           588.0                VMC   \n",
       "52199                  NaN             NaN                VMC   \n",
       "60171                  NaN             NaN                VMC   \n",
       "64387                  0.0             5.0                VMC   \n",
       "67558                  0.0             0.0                VMC   \n",
       "\n",
       "       Broad.phase.of.flight  \\\n",
       "4150                    Taxi   \n",
       "52199                    NaN   \n",
       "60171                    NaN   \n",
       "64387                    NaN   \n",
       "67558                    NaN   \n",
       "\n",
       "                                           Report.Status Publication.Date  \n",
       "4150                                      Probable Cause       04-12-2014  \n",
       "52199                                            Foreign       07-07-2009  \n",
       "60171                                            Foreign       29-06-2009  \n",
       "64387  An engine fire in the No. 3 engine due to the ...       25-09-2020  \n",
       "67558                                                NaN       03-11-2020  \n",
       "\n",
       "[5 rows x 29 columns]"
      ]
     },
     "execution_count": 1145,
     "metadata": {},
     "output_type": "execute_result"
    }
   ],
   "source": [
    "personal_747_df.head()"
   ]
  },
  {
   "cell_type": "code",
   "execution_count": 1187,
   "id": "802d02ae-7b4e-4e17-b421-6c72c0f2cc76",
   "metadata": {},
   "outputs": [
    {
     "data": {
      "image/png": "[encoded data removed]",
      "text/plain": [
       "<Figure size 1000x600 with 1 Axes>"
      ]
     },
     "metadata": {},
     "output_type": "display_data"
    }
   ],
   "source": [
    "# plot of the accidents over the years \n",
    "# change the 'Event.date' to a datetime format\n",
    "personal_747_df['Event.Date']=pd.to_datetime(personal_747_df['Event.Date'])\n",
    "# Extract the year\n",
    "personal_747_df['Event.Year'] = personal_747_df['Event.Date'].dt.year\n",
    "# filter for incidents only\n",
    "incidents_df=personal_747_df[personal_747_df['Investigation.Type'] ==0]\n",
    "#count incidents per year\n",
    "incidents_per_year= incidents_df['Event.Year'].value_counts().sort_index()\n",
    "#plot\n",
    "fig, ax =plt.subplots(figsize=(10,6))\n",
    "incidents_per_year.plot(kind='barh', ax=ax,color='lightblue') \n",
    "ax.set_xlabel('Year')\n",
    "ax.set_ylabel('Number of Incidents')\n",
    "ax.set_title('Number of incidents over the years')\n",
    "plt.show()"
   ]
  },
  {
   "cell_type": "markdown",
   "id": "ec0b5a34-b52f-42be-b819-f1fa7bbcaf32",
   "metadata": {},
   "source": [
    "2010 had the highest number of incidents at 12. This has leptokurtic distitribution"
   ]
  }
 ],
 "metadata": {
  "kernelspec": {
   "display_name": "Python 3 (ipykernel)",
   "language": "python",
   "name": "python3"
  },
  "language_info": {
   "codemirror_mode": {
    "name": "ipython",
    "version": 3
   },
   "file_extension": ".py",
   "mimetype": "text/x-python",
   "name": "python",
   "nbconvert_exporter": "python",
   "pygments_lexer": "ipython3",
   "version": "3.12.7"
  }
 },
 "nbformat": 4,
 "nbformat_minor": 5
}
