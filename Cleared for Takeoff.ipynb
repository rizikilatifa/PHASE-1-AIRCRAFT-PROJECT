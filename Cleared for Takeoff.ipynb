{
 "cells": [
  {
   "cell_type": "markdown",
   "id": "b4f0440a-fd04-4189-b82a-ac04840635bf",
   "metadata": {},
   "source": [
    "#  Cleared for Takeoff: A Data-Driven Risk Analysis for Strategic Aircraft Acquisition\n",
    "\n",
    "![airplane](./image/Airplane_in_sky.jpg)"
   ]
  },
  {
   "cell_type": "markdown",
   "id": "7149ab54-020e-4052-b333-9192f5881ebd",
   "metadata": {},
   "source": [
    "## Overview\n",
    "This project aims at analyzing data from the National Transportation Safety Board [Aviation accident database](https://www.kaggle.com/datasets/khsamaha/aviation-accident-database-synopses), which contains aviation accident records from 1962 to 2023, within the United States, its territories and possessions, and in international waters. The primary objective is to assess the safety of various aircraft to ensure our clients make well-informed and risk-conscious purchasing decisions as they expand into the aviation sector."
   ]
  },
  {
   "cell_type": "markdown",
   "id": "f3ea6be9-65d9-44a2-a926-13135eefe08a",
   "metadata": {
    "jp-MarkdownHeadingCollapsed": true
   },
   "source": [
    "\n",
    "## Business Understanding\n",
    "Our client is seeking to broaden their investment portfolio by entering new markets. They are particularly interested in acquiring and managing aircraft for both commercial and private use. As a data analyst, my objective is to identify the safest and most reliable aircraft options to support the company's entry into this aviation venture.\n",
    "![Airplane Takeoff](./image/airplane_takeoff.jpg)"
   ]
  },
  {
   "cell_type": "markdown",
   "id": "41e9c285-77de-43a8-8c25-e1bd715009c8",
   "metadata": {},
   "source": [
    "## Data Understanding\n",
    "The dataset used in this analysis is sourced from Kaggle: [Aviation Accident Database & Synopses (up to 2023)](https://www.kaggle.com/datasets/khsamaha/aviation-accident-database-synopses). It contains detailed records of aviation accidents investigated by the U.S. National Transportation Safety Board (NTSB) from 1962 to 2023. This information allows for a comprehensive analysis of accident patterns, helping us determine which aircraft types have the lowest risk profiles. Specifically, we will assess factors such as the number of engines, aircraft condition prior to takeoff, and geographical locations with higher accident frequencies. The goal is to identify trends and safety indicators that can guide the company in selecting safer aircraft for commercial and private operations."
   ]
  },
  {
   "cell_type": "code",
   "execution_count": 1954,
   "id": "8284ca7f-5419-42e8-9919-9465133da678",
   "metadata": {},
   "outputs": [],
   "source": [
    "# import pandas to load the data and create dataframes, we use pandas methods to inspect the shape and other attributes of these data frames\n",
    "import pandas as pd"
   ]
  },
  {
   "cell_type": "code",
   "execution_count": 1955,
   "id": "627e04e5-fb5d-4f99-be8c-9668bc1cf5a4",
   "metadata": {},
   "outputs": [
    {
     "data": {
      "text/html": [
       "<div>\n",
       "<style scoped>\n",
       "    .dataframe tbody tr th:only-of-type {\n",
       "        vertical-align: middle;\n",
       "    }\n",
       "\n",
       "    .dataframe tbody tr th {\n",
       "        vertical-align: top;\n",
       "    }\n",
       "\n",
       "    .dataframe thead th {\n",
       "        text-align: right;\n",
       "    }\n",
       "</style>\n",
       "<table border=\"1\" class=\"dataframe\">\n",
       "  <thead>\n",
       "    <tr style=\"text-align: right;\">\n",
       "      <th></th>\n",
       "      <th>Event.Id</th>\n",
       "      <th>Investigation.Type</th>\n",
       "      <th>Accident.Number</th>\n",
       "      <th>Event.Date</th>\n",
       "      <th>Location</th>\n",
       "      <th>Country</th>\n",
       "      <th>Latitude</th>\n",
       "      <th>Longitude</th>\n",
       "      <th>Airport.Code</th>\n",
       "      <th>Airport.Name</th>\n",
       "      <th>...</th>\n",
       "      <th>Purpose.of.flight</th>\n",
       "      <th>Air.carrier</th>\n",
       "      <th>Total.Fatal.Injuries</th>\n",
       "      <th>Total.Serious.Injuries</th>\n",
       "      <th>Total.Minor.Injuries</th>\n",
       "      <th>Total.Uninjured</th>\n",
       "      <th>Weather.Condition</th>\n",
       "      <th>Broad.phase.of.flight</th>\n",
       "      <th>Report.Status</th>\n",
       "      <th>Publication.Date</th>\n",
       "    </tr>\n",
       "  </thead>\n",
       "  <tbody>\n",
       "    <tr>\n",
       "      <th>0</th>\n",
       "      <td>20001218X45444</td>\n",
       "      <td>Accident</td>\n",
       "      <td>SEA87LA080</td>\n",
       "      <td>1948-10-24</td>\n",
       "      <td>MOOSE CREEK, ID</td>\n",
       "      <td>United States</td>\n",
       "      <td>NaN</td>\n",
       "      <td>NaN</td>\n",
       "      <td>NaN</td>\n",
       "      <td>NaN</td>\n",
       "      <td>...</td>\n",
       "      <td>Personal</td>\n",
       "      <td>NaN</td>\n",
       "      <td>2.0</td>\n",
       "      <td>0.0</td>\n",
       "      <td>0.0</td>\n",
       "      <td>0.0</td>\n",
       "      <td>UNK</td>\n",
       "      <td>Cruise</td>\n",
       "      <td>Probable Cause</td>\n",
       "      <td>NaN</td>\n",
       "    </tr>\n",
       "    <tr>\n",
       "      <th>1</th>\n",
       "      <td>20001218X45447</td>\n",
       "      <td>Accident</td>\n",
       "      <td>LAX94LA336</td>\n",
       "      <td>1962-07-19</td>\n",
       "      <td>BRIDGEPORT, CA</td>\n",
       "      <td>United States</td>\n",
       "      <td>NaN</td>\n",
       "      <td>NaN</td>\n",
       "      <td>NaN</td>\n",
       "      <td>NaN</td>\n",
       "      <td>...</td>\n",
       "      <td>Personal</td>\n",
       "      <td>NaN</td>\n",
       "      <td>4.0</td>\n",
       "      <td>0.0</td>\n",
       "      <td>0.0</td>\n",
       "      <td>0.0</td>\n",
       "      <td>UNK</td>\n",
       "      <td>Unknown</td>\n",
       "      <td>Probable Cause</td>\n",
       "      <td>19-09-1996</td>\n",
       "    </tr>\n",
       "    <tr>\n",
       "      <th>2</th>\n",
       "      <td>20061025X01555</td>\n",
       "      <td>Accident</td>\n",
       "      <td>NYC07LA005</td>\n",
       "      <td>1974-08-30</td>\n",
       "      <td>Saltville, VA</td>\n",
       "      <td>United States</td>\n",
       "      <td>36.922223</td>\n",
       "      <td>-81.878056</td>\n",
       "      <td>NaN</td>\n",
       "      <td>NaN</td>\n",
       "      <td>...</td>\n",
       "      <td>Personal</td>\n",
       "      <td>NaN</td>\n",
       "      <td>3.0</td>\n",
       "      <td>NaN</td>\n",
       "      <td>NaN</td>\n",
       "      <td>NaN</td>\n",
       "      <td>IMC</td>\n",
       "      <td>Cruise</td>\n",
       "      <td>Probable Cause</td>\n",
       "      <td>26-02-2007</td>\n",
       "    </tr>\n",
       "    <tr>\n",
       "      <th>3</th>\n",
       "      <td>20001218X45448</td>\n",
       "      <td>Accident</td>\n",
       "      <td>LAX96LA321</td>\n",
       "      <td>1977-06-19</td>\n",
       "      <td>EUREKA, CA</td>\n",
       "      <td>United States</td>\n",
       "      <td>NaN</td>\n",
       "      <td>NaN</td>\n",
       "      <td>NaN</td>\n",
       "      <td>NaN</td>\n",
       "      <td>...</td>\n",
       "      <td>Personal</td>\n",
       "      <td>NaN</td>\n",
       "      <td>2.0</td>\n",
       "      <td>0.0</td>\n",
       "      <td>0.0</td>\n",
       "      <td>0.0</td>\n",
       "      <td>IMC</td>\n",
       "      <td>Cruise</td>\n",
       "      <td>Probable Cause</td>\n",
       "      <td>12-09-2000</td>\n",
       "    </tr>\n",
       "    <tr>\n",
       "      <th>4</th>\n",
       "      <td>20041105X01764</td>\n",
       "      <td>Accident</td>\n",
       "      <td>CHI79FA064</td>\n",
       "      <td>1979-08-02</td>\n",
       "      <td>Canton, OH</td>\n",
       "      <td>United States</td>\n",
       "      <td>NaN</td>\n",
       "      <td>NaN</td>\n",
       "      <td>NaN</td>\n",
       "      <td>NaN</td>\n",
       "      <td>...</td>\n",
       "      <td>Personal</td>\n",
       "      <td>NaN</td>\n",
       "      <td>1.0</td>\n",
       "      <td>2.0</td>\n",
       "      <td>NaN</td>\n",
       "      <td>0.0</td>\n",
       "      <td>VMC</td>\n",
       "      <td>Approach</td>\n",
       "      <td>Probable Cause</td>\n",
       "      <td>16-04-1980</td>\n",
       "    </tr>\n",
       "  </tbody>\n",
       "</table>\n",
       "<p>5 rows × 31 columns</p>\n",
       "</div>"
      ],
      "text/plain": [
       "         Event.Id Investigation.Type Accident.Number  Event.Date  \\\n",
       "0  20001218X45444           Accident      SEA87LA080  1948-10-24   \n",
       "1  20001218X45447           Accident      LAX94LA336  1962-07-19   \n",
       "2  20061025X01555           Accident      NYC07LA005  1974-08-30   \n",
       "3  20001218X45448           Accident      LAX96LA321  1977-06-19   \n",
       "4  20041105X01764           Accident      CHI79FA064  1979-08-02   \n",
       "\n",
       "          Location        Country   Latitude   Longitude Airport.Code  \\\n",
       "0  MOOSE CREEK, ID  United States        NaN         NaN          NaN   \n",
       "1   BRIDGEPORT, CA  United States        NaN         NaN          NaN   \n",
       "2    Saltville, VA  United States  36.922223  -81.878056          NaN   \n",
       "3       EUREKA, CA  United States        NaN         NaN          NaN   \n",
       "4       Canton, OH  United States        NaN         NaN          NaN   \n",
       "\n",
       "  Airport.Name  ... Purpose.of.flight Air.carrier Total.Fatal.Injuries  \\\n",
       "0          NaN  ...          Personal         NaN                  2.0   \n",
       "1          NaN  ...          Personal         NaN                  4.0   \n",
       "2          NaN  ...          Personal         NaN                  3.0   \n",
       "3          NaN  ...          Personal         NaN                  2.0   \n",
       "4          NaN  ...          Personal         NaN                  1.0   \n",
       "\n",
       "  Total.Serious.Injuries Total.Minor.Injuries Total.Uninjured  \\\n",
       "0                    0.0                  0.0             0.0   \n",
       "1                    0.0                  0.0             0.0   \n",
       "2                    NaN                  NaN             NaN   \n",
       "3                    0.0                  0.0             0.0   \n",
       "4                    2.0                  NaN             0.0   \n",
       "\n",
       "  Weather.Condition  Broad.phase.of.flight   Report.Status Publication.Date  \n",
       "0               UNK                 Cruise  Probable Cause              NaN  \n",
       "1               UNK                Unknown  Probable Cause       19-09-1996  \n",
       "2               IMC                 Cruise  Probable Cause       26-02-2007  \n",
       "3               IMC                 Cruise  Probable Cause       12-09-2000  \n",
       "4               VMC               Approach  Probable Cause       16-04-1980  \n",
       "\n",
       "[5 rows x 31 columns]"
      ]
     },
     "execution_count": 1955,
     "metadata": {},
     "output_type": "execute_result"
    }
   ],
   "source": [
    "#used encoding latin1 because maybe our data contains special characters that cannot be read with 'utf-8'\n",
    "#load the csv file using alias pd\n",
    "aircraft_data = pd.read_csv('AviationData.csv', encoding = 'latin1', low_memory=False)# tells pandas to read the whole file first then determine the best datatype for each column\n",
    "aircraft_data.head()"
   ]
  },
  {
   "cell_type": "code",
   "execution_count": 1956,
   "id": "3e22ca8c-9189-4ed9-880b-8f7e88f30086",
   "metadata": {},
   "outputs": [
    {
     "name": "stdout",
     "output_type": "stream",
     "text": [
      "<class 'pandas.core.frame.DataFrame'>\n",
      "RangeIndex: 88889 entries, 0 to 88888\n",
      "Data columns (total 31 columns):\n",
      " #   Column                  Non-Null Count  Dtype  \n",
      "---  ------                  --------------  -----  \n",
      " 0   Event.Id                88889 non-null  object \n",
      " 1   Investigation.Type      88889 non-null  object \n",
      " 2   Accident.Number         88889 non-null  object \n",
      " 3   Event.Date              88889 non-null  object \n",
      " 4   Location                88837 non-null  object \n",
      " 5   Country                 88663 non-null  object \n",
      " 6   Latitude                34382 non-null  object \n",
      " 7   Longitude               34373 non-null  object \n",
      " 8   Airport.Code            50132 non-null  object \n",
      " 9   Airport.Name            52704 non-null  object \n",
      " 10  Injury.Severity         87889 non-null  object \n",
      " 11  Aircraft.damage         85695 non-null  object \n",
      " 12  Aircraft.Category       32287 non-null  object \n",
      " 13  Registration.Number     87507 non-null  object \n",
      " 14  Make                    88826 non-null  object \n",
      " 15  Model                   88797 non-null  object \n",
      " 16  Amateur.Built           88787 non-null  object \n",
      " 17  Number.of.Engines       82805 non-null  float64\n",
      " 18  Engine.Type             81793 non-null  object \n",
      " 19  FAR.Description         32023 non-null  object \n",
      " 20  Schedule                12582 non-null  object \n",
      " 21  Purpose.of.flight       82697 non-null  object \n",
      " 22  Air.carrier             16648 non-null  object \n",
      " 23  Total.Fatal.Injuries    77488 non-null  float64\n",
      " 24  Total.Serious.Injuries  76379 non-null  float64\n",
      " 25  Total.Minor.Injuries    76956 non-null  float64\n",
      " 26  Total.Uninjured         82977 non-null  float64\n",
      " 27  Weather.Condition       84397 non-null  object \n",
      " 28  Broad.phase.of.flight   61724 non-null  object \n",
      " 29  Report.Status           82505 non-null  object \n",
      " 30  Publication.Date        75118 non-null  object \n",
      "dtypes: float64(5), object(26)\n",
      "memory usage: 21.0+ MB\n"
     ]
    }
   ],
   "source": [
    "#Check the data types for each columns\n",
    "aircraft_data.info()"
   ]
  },
  {
   "cell_type": "markdown",
   "id": "370714c3-7fb1-449d-be8a-8da17bd099aa",
   "metadata": {},
   "source": [
    "# Info analysis\n",
    "From the information above, the dataset contains a total of 88,889 entries and 31 columns. By reviewing an overview of the data, we can identify which columns contain null values and make informed decisions on which ones to retain or drop.\n",
    "Now check the relevance of each column to our goal."
   ]
  },
  {
   "cell_type": "code",
   "execution_count": 1958,
   "id": "7adf2ea6-5d97-4866-a681-71fbf79d71a1",
   "metadata": {},
   "outputs": [
    {
     "data": {
      "text/plain": [
       "Event.Id                   0.000000\n",
       "Investigation.Type         0.000000\n",
       "Accident.Number            0.000000\n",
       "Event.Date                 0.000000\n",
       "Location                   0.058500\n",
       "Country                    0.254250\n",
       "Latitude                  61.320298\n",
       "Longitude                 61.330423\n",
       "Airport.Code              43.601570\n",
       "Airport.Name              40.708074\n",
       "Injury.Severity            1.124999\n",
       "Aircraft.damage            3.593246\n",
       "Aircraft.Category         63.677170\n",
       "Registration.Number        1.554748\n",
       "Make                       0.070875\n",
       "Model                      0.103500\n",
       "Amateur.Built              0.114750\n",
       "Number.of.Engines          6.844491\n",
       "Engine.Type                7.982990\n",
       "FAR.Description           63.974170\n",
       "Schedule                  85.845268\n",
       "Purpose.of.flight          6.965991\n",
       "Air.carrier               81.271023\n",
       "Total.Fatal.Injuries      12.826109\n",
       "Total.Serious.Injuries    14.073732\n",
       "Total.Minor.Injuries      13.424608\n",
       "Total.Uninjured            6.650992\n",
       "Weather.Condition          5.053494\n",
       "Broad.phase.of.flight     30.560587\n",
       "Report.Status              7.181991\n",
       "Publication.Date          15.492356\n",
       "dtype: float64"
      ]
     },
     "execution_count": 1958,
     "metadata": {},
     "output_type": "execute_result"
    }
   ],
   "source": [
    "# checking for the percentage of null values in each column\n",
    "aircraft_data.isna().mean()*100"
   ]
  },
  {
   "cell_type": "markdown",
   "id": "2575b63a-03ba-4f31-bd81-d610afa90c54",
   "metadata": {},
   "source": [
    "# Dropping Columns"
   ]
  },
  {
   "cell_type": "markdown",
   "id": "703c3453-5d5a-4564-8979-1a500d1ea460",
   "metadata": {},
   "source": [
    "Columns such as `Air.carrier` have approximately 81% missing values, and `Schedule` has around 85% missing values. Let’s now evaluate their relevance to determine whether they should be retained or dropped from the dataset."
   ]
  },
  {
   "cell_type": "code",
   "execution_count": 1961,
   "id": "df12e688-d860-4d11-8cff-68a98833aaef",
   "metadata": {},
   "outputs": [],
   "source": [
    "#drop the Air.Carrier and schedule column due to its higher percentage of missing values\n",
    "aircraft_data.drop(['Air.carrier','Schedule'], axis= 1, inplace=True)"
   ]
  },
  {
   "cell_type": "code",
   "execution_count": 1962,
   "id": "764b44c2-bc34-4fbc-8a3b-ab7d83b6308b",
   "metadata": {},
   "outputs": [
    {
     "name": "stdout",
     "output_type": "stream",
     "text": [
      "<class 'pandas.core.frame.DataFrame'>\n",
      "RangeIndex: 88889 entries, 0 to 88888\n",
      "Data columns (total 29 columns):\n",
      " #   Column                  Non-Null Count  Dtype  \n",
      "---  ------                  --------------  -----  \n",
      " 0   Event.Id                88889 non-null  object \n",
      " 1   Investigation.Type      88889 non-null  object \n",
      " 2   Accident.Number         88889 non-null  object \n",
      " 3   Event.Date              88889 non-null  object \n",
      " 4   Location                88837 non-null  object \n",
      " 5   Country                 88663 non-null  object \n",
      " 6   Latitude                34382 non-null  object \n",
      " 7   Longitude               34373 non-null  object \n",
      " 8   Airport.Code            50132 non-null  object \n",
      " 9   Airport.Name            52704 non-null  object \n",
      " 10  Injury.Severity         87889 non-null  object \n",
      " 11  Aircraft.damage         85695 non-null  object \n",
      " 12  Aircraft.Category       32287 non-null  object \n",
      " 13  Registration.Number     87507 non-null  object \n",
      " 14  Make                    88826 non-null  object \n",
      " 15  Model                   88797 non-null  object \n",
      " 16  Amateur.Built           88787 non-null  object \n",
      " 17  Number.of.Engines       82805 non-null  float64\n",
      " 18  Engine.Type             81793 non-null  object \n",
      " 19  FAR.Description         32023 non-null  object \n",
      " 20  Purpose.of.flight       82697 non-null  object \n",
      " 21  Total.Fatal.Injuries    77488 non-null  float64\n",
      " 22  Total.Serious.Injuries  76379 non-null  float64\n",
      " 23  Total.Minor.Injuries    76956 non-null  float64\n",
      " 24  Total.Uninjured         82977 non-null  float64\n",
      " 25  Weather.Condition       84397 non-null  object \n",
      " 26  Broad.phase.of.flight   61724 non-null  object \n",
      " 27  Report.Status           82505 non-null  object \n",
      " 28  Publication.Date        75118 non-null  object \n",
      "dtypes: float64(5), object(24)\n",
      "memory usage: 19.7+ MB\n"
     ]
    }
   ],
   "source": [
    "aircraft_data.info()"
   ]
  },
  {
   "cell_type": "markdown",
   "id": "36c9d0c0-90e6-4f3d-84af-467aba037750",
   "metadata": {},
   "source": [
    "# Making Sure columns We are interested in are Uniform and dealing with null values\n"
   ]
  },
  {
   "cell_type": "markdown",
   "id": "bfe86bbe-0435-4b30-972f-34337d6983d6",
   "metadata": {},
   "source": [
    "## `Weather` Column"
   ]
  },
  {
   "cell_type": "code",
   "execution_count": 1965,
   "id": "0ba9c188-529a-4720-b912-783132a04b4a",
   "metadata": {},
   "outputs": [
    {
     "data": {
      "text/plain": [
       "Weather.Condition\n",
       "VMC    77303\n",
       "IMC     5976\n",
       "UNK      856\n",
       "Unk      262\n",
       "Name: count, dtype: int64"
      ]
     },
     "execution_count": 1965,
     "metadata": {},
     "output_type": "execute_result"
    }
   ],
   "source": [
    "aircraft_data['Weather.Condition'].value_counts()"
   ]
  },
  {
   "cell_type": "markdown",
   "id": "1b20de1d-dde4-401e-87e3-ec652580f968",
   "metadata": {},
   "source": [
    "From the above output `UNK` and `unk`are the same just diffrent capitalization. we make the uniform by `.str.upper()`method"
   ]
  },
  {
   "cell_type": "code",
   "execution_count": 1967,
   "id": "0c8ee3d3-a909-445d-b41e-f5689ed72e8b",
   "metadata": {},
   "outputs": [],
   "source": [
    "aircraft_data['Weather.Condition']=aircraft_data['Weather.Condition'].str.upper()"
   ]
  },
  {
   "cell_type": "markdown",
   "id": "6daac2b1-f69b-45d3-8beb-f17a54111b4d",
   "metadata": {},
   "source": [
    "Filled the nan values with VMC since its the most frequent"
   ]
  },
  {
   "cell_type": "code",
   "execution_count": 1969,
   "id": "9232dbe3-41ff-460c-b154-8c43a1c26adc",
   "metadata": {},
   "outputs": [],
   "source": [
    "# filling the nan values with most frequent\n",
    "aircraft_data['Weather.Condition']=aircraft_data['Weather.Condition'].fillna('VMC')"
   ]
  },
  {
   "cell_type": "markdown",
   "id": "6f311057-7da3-40bf-9f79-4a7ab3dd31b5",
   "metadata": {},
   "source": [
    "## `Make` Column"
   ]
  },
  {
   "cell_type": "code",
   "execution_count": 1971,
   "id": "269ab732-e410-4583-9250-06ad0d92461e",
   "metadata": {},
   "outputs": [
    {
     "data": {
      "text/plain": [
       "Make\n",
       "Cessna             22227\n",
       "Piper              12029\n",
       "CESSNA              4922\n",
       "Beech               4330\n",
       "PIPER               2841\n",
       "                   ...  \n",
       "Leonard Walters        1\n",
       "Maule Air Inc.         1\n",
       "Motley Vans            1\n",
       "Perlick                1\n",
       "ROYSE RALPH L          1\n",
       "Name: count, Length: 8237, dtype: int64"
      ]
     },
     "execution_count": 1971,
     "metadata": {},
     "output_type": "execute_result"
    }
   ],
   "source": [
    "#code to look at the unique types of Makes\n",
    "aircraft_data['Make'].value_counts()"
   ]
  },
  {
   "cell_type": "markdown",
   "id": "9b08618b-36cc-4d0d-b8ca-277fa7d6e5c0",
   "metadata": {},
   "source": [
    "From the output above, `Cessna` and `CESSNA` refer to the same make, but with different capitalizations. We will standardize the `Make` column by applying the `.title()` method"
   ]
  },
  {
   "cell_type": "code",
   "execution_count": 1973,
   "id": "02d7b112-db2e-44e3-bbe0-81f66b33c136",
   "metadata": {},
   "outputs": [],
   "source": [
    "# making the names in Make be uniform \n",
    "aircraft_data['Make']=aircraft_data['Make'].str.title()\n"
   ]
  },
  {
   "cell_type": "markdown",
   "id": "d0b2ad8d-9c1f-4044-9ee4-87a9f1c85404",
   "metadata": {},
   "source": [
    "## `Model` Column"
   ]
  },
  {
   "cell_type": "code",
   "execution_count": 1975,
   "id": "671df073-7cef-475f-a628-66fde2a2bcfa",
   "metadata": {},
   "outputs": [
    {
     "data": {
      "text/plain": [
       "Model\n",
       "152              2367\n",
       "172              1756\n",
       "172N             1164\n",
       "PA-28-140         932\n",
       "150               829\n",
       "                 ... \n",
       "GC-1-A              1\n",
       "737-3S3             1\n",
       "MBB-BK117-B2        1\n",
       "GLASSAIR GL25       1\n",
       "M-8 EAGLE           1\n",
       "Name: count, Length: 12318, dtype: int64"
      ]
     },
     "execution_count": 1975,
     "metadata": {},
     "output_type": "execute_result"
    }
   ],
   "source": [
    "aircraft_data['Model'].value_counts()"
   ]
  },
  {
   "cell_type": "code",
   "execution_count": 1976,
   "id": "341f53e8-ddf5-42a3-a773-9135bdaf0f10",
   "metadata": {},
   "outputs": [],
   "source": [
    "aircraft_data['Model']=aircraft_data['Model'].str.upper()"
   ]
  },
  {
   "cell_type": "code",
   "execution_count": 1977,
   "id": "ceb44e21-612d-4c47-91d6-21f3438e0d8c",
   "metadata": {},
   "outputs": [
    {
     "data": {
      "text/plain": [
       "Model\n",
       "152                 2367\n",
       "172                 1756\n",
       "172N                1164\n",
       "PA-28-140            932\n",
       "150                  829\n",
       "                    ... \n",
       "E75NL                  1\n",
       "747-273C               1\n",
       "WATCHA-MCCALL-IT       1\n",
       "MD-520N                1\n",
       "M-8 EAGLE              1\n",
       "Name: count, Length: 11646, dtype: int64"
      ]
     },
     "execution_count": 1977,
     "metadata": {},
     "output_type": "execute_result"
    }
   ],
   "source": [
    "aircraft_data['Model'].value_counts()"
   ]
  },
  {
   "cell_type": "code",
   "execution_count": 1978,
   "id": "2d21fe61-2bad-4fe9-a8cd-fe42768697e3",
   "metadata": {},
   "outputs": [],
   "source": [
    "# concatenating Make and Mode\n",
    "aircraft_data['Aircraft_type']=aircraft_data['Make']+\" \"+ aircraft_data['Model']"
   ]
  },
  {
   "cell_type": "markdown",
   "id": "be988c45-a018-4c16-bc2f-741913339a28",
   "metadata": {},
   "source": [
    "## `Purpose of flight` Column"
   ]
  },
  {
   "cell_type": "code",
   "execution_count": 1980,
   "id": "bac24b5e-5bf0-4eb5-8f81-5c12860abb57",
   "metadata": {},
   "outputs": [
    {
     "data": {
      "text/plain": [
       "Purpose.of.flight\n",
       "Personal                     49448\n",
       "Instructional                10601\n",
       "Unknown                       6802\n",
       "Aerial Application            4712\n",
       "Business                      4018\n",
       "Positioning                   1646\n",
       "Other Work Use                1264\n",
       "Ferry                          812\n",
       "Aerial Observation             794\n",
       "Public Aircraft                720\n",
       "Executive/corporate            553\n",
       "Flight Test                    405\n",
       "Skydiving                      182\n",
       "External Load                  123\n",
       "Public Aircraft - Federal      105\n",
       "Banner Tow                     101\n",
       "Air Race show                   99\n",
       "Public Aircraft - Local         74\n",
       "Public Aircraft - State         64\n",
       "Air Race/show                   59\n",
       "Glider Tow                      53\n",
       "Firefighting                    40\n",
       "Air Drop                        11\n",
       "ASHO                             6\n",
       "PUBS                             4\n",
       "PUBL                             1\n",
       "Name: count, dtype: int64"
      ]
     },
     "execution_count": 1980,
     "metadata": {},
     "output_type": "execute_result"
    }
   ],
   "source": [
    "aircraft_data['Purpose.of.flight'].value_counts()"
   ]
  },
  {
   "cell_type": "code",
   "execution_count": 1981,
   "id": "51403205-b7db-4b4f-97a0-08a17d867069",
   "metadata": {},
   "outputs": [],
   "source": [
    "aircraft_data['Purpose.of.flight'] =aircraft_data['Purpose.of.flight'].fillna('Personal')\n"
   ]
  },
  {
   "cell_type": "markdown",
   "id": "908918f0-7196-4b15-9d55-1ffe72c8d244",
   "metadata": {},
   "source": [
    "Missing values in the `Purpose.of.flight` columns were filled with `Personal` since it was the most frequent category, representing the majority of the data "
   ]
  },
  {
   "cell_type": "markdown",
   "id": "3b805a69-5731-4bb7-a8b6-985639c4eb8f",
   "metadata": {},
   "source": [
    "## `Engine Type` Column"
   ]
  },
  {
   "cell_type": "code",
   "execution_count": 1984,
   "id": "8368f654-6cf5-4faa-ae7e-161b74617142",
   "metadata": {},
   "outputs": [
    {
     "data": {
      "text/plain": [
       "Engine.Type\n",
       "Reciprocating      69530\n",
       "Turbo Shaft         3609\n",
       "Turbo Prop          3391\n",
       "Turbo Fan           2481\n",
       "Unknown             2051\n",
       "Turbo Jet            703\n",
       "Geared Turbofan       12\n",
       "Electric              10\n",
       "LR                     2\n",
       "NONE                   2\n",
       "Hybrid Rocket          1\n",
       "UNK                    1\n",
       "Name: count, dtype: int64"
      ]
     },
     "execution_count": 1984,
     "metadata": {},
     "output_type": "execute_result"
    }
   ],
   "source": [
    "aircraft_data['Engine.Type'].value_counts()"
   ]
  },
  {
   "cell_type": "markdown",
   "id": "876beab2-c9fe-4aed-82d0-1c797145952e",
   "metadata": {},
   "source": [
    "# Checking for Correlation betweeen Numeric Data\n",
    "I was interested in checking whether `Amateur Built` is correlated with the `Type.Of.investigation`. To do this, I'll need to convert the columns to numeric format."
   ]
  },
  {
   "cell_type": "code",
   "execution_count": 1986,
   "id": "e2db2118-83ac-4586-8df9-985a1837ce4b",
   "metadata": {},
   "outputs": [],
   "source": [
    "#Change the amateur built into a numbers \n",
    "aircraft_data['Amateur.Built']=aircraft_data['Amateur.Built'].map({'Yes': 1, 'No':0})"
   ]
  },
  {
   "cell_type": "code",
   "execution_count": 1987,
   "id": "00605893-2553-4eba-96b3-2d1dc82dcf5d",
   "metadata": {},
   "outputs": [],
   "source": [
    "#Change the Investigation types to numbers \n",
    "aircraft_data['Investigation.Type']=aircraft_data['Investigation.Type'].map({'Accident': 1, 'Incident':0})"
   ]
  },
  {
   "cell_type": "code",
   "execution_count": 1988,
   "id": "51ce1c7e-ed31-41ff-937a-68dc2036648a",
   "metadata": {},
   "outputs": [
    {
     "data": {
      "text/html": [
       "<div>\n",
       "<style scoped>\n",
       "    .dataframe tbody tr th:only-of-type {\n",
       "        vertical-align: middle;\n",
       "    }\n",
       "\n",
       "    .dataframe tbody tr th {\n",
       "        vertical-align: top;\n",
       "    }\n",
       "\n",
       "    .dataframe thead th {\n",
       "        text-align: right;\n",
       "    }\n",
       "</style>\n",
       "<table border=\"1\" class=\"dataframe\">\n",
       "  <thead>\n",
       "    <tr style=\"text-align: right;\">\n",
       "      <th></th>\n",
       "      <th>Investigation.Type</th>\n",
       "      <th>Amateur.Built</th>\n",
       "      <th>Number.of.Engines</th>\n",
       "      <th>Total.Fatal.Injuries</th>\n",
       "      <th>Total.Serious.Injuries</th>\n",
       "      <th>Total.Minor.Injuries</th>\n",
       "      <th>Total.Uninjured</th>\n",
       "    </tr>\n",
       "  </thead>\n",
       "  <tbody>\n",
       "    <tr>\n",
       "      <th>Investigation.Type</th>\n",
       "      <td>1.000000</td>\n",
       "      <td>0.061804</td>\n",
       "      <td>-0.370518</td>\n",
       "      <td>0.024367</td>\n",
       "      <td>0.025172</td>\n",
       "      <td>-0.000623</td>\n",
       "      <td>-0.348089</td>\n",
       "    </tr>\n",
       "    <tr>\n",
       "      <th>Amateur.Built</th>\n",
       "      <td>0.061804</td>\n",
       "      <td>1.000000</td>\n",
       "      <td>-0.106847</td>\n",
       "      <td>-0.012407</td>\n",
       "      <td>-0.001795</td>\n",
       "      <td>-0.003396</td>\n",
       "      <td>-0.049998</td>\n",
       "    </tr>\n",
       "    <tr>\n",
       "      <th>Number.of.Engines</th>\n",
       "      <td>-0.370518</td>\n",
       "      <td>-0.106847</td>\n",
       "      <td>1.000000</td>\n",
       "      <td>0.098505</td>\n",
       "      <td>0.046157</td>\n",
       "      <td>0.098162</td>\n",
       "      <td>0.406058</td>\n",
       "    </tr>\n",
       "    <tr>\n",
       "      <th>Total.Fatal.Injuries</th>\n",
       "      <td>0.024367</td>\n",
       "      <td>-0.012407</td>\n",
       "      <td>0.098505</td>\n",
       "      <td>1.000000</td>\n",
       "      <td>0.135724</td>\n",
       "      <td>0.073559</td>\n",
       "      <td>-0.015214</td>\n",
       "    </tr>\n",
       "    <tr>\n",
       "      <th>Total.Serious.Injuries</th>\n",
       "      <td>0.025172</td>\n",
       "      <td>-0.001795</td>\n",
       "      <td>0.046157</td>\n",
       "      <td>0.135724</td>\n",
       "      <td>1.000000</td>\n",
       "      <td>0.326849</td>\n",
       "      <td>0.052869</td>\n",
       "    </tr>\n",
       "    <tr>\n",
       "      <th>Total.Minor.Injuries</th>\n",
       "      <td>-0.000623</td>\n",
       "      <td>-0.003396</td>\n",
       "      <td>0.098162</td>\n",
       "      <td>0.073559</td>\n",
       "      <td>0.326849</td>\n",
       "      <td>1.000000</td>\n",
       "      <td>0.147770</td>\n",
       "    </tr>\n",
       "    <tr>\n",
       "      <th>Total.Uninjured</th>\n",
       "      <td>-0.348089</td>\n",
       "      <td>-0.049998</td>\n",
       "      <td>0.406058</td>\n",
       "      <td>-0.015214</td>\n",
       "      <td>0.052869</td>\n",
       "      <td>0.147770</td>\n",
       "      <td>1.000000</td>\n",
       "    </tr>\n",
       "  </tbody>\n",
       "</table>\n",
       "</div>"
      ],
      "text/plain": [
       "                        Investigation.Type  Amateur.Built  Number.of.Engines  \\\n",
       "Investigation.Type                1.000000       0.061804          -0.370518   \n",
       "Amateur.Built                     0.061804       1.000000          -0.106847   \n",
       "Number.of.Engines                -0.370518      -0.106847           1.000000   \n",
       "Total.Fatal.Injuries              0.024367      -0.012407           0.098505   \n",
       "Total.Serious.Injuries            0.025172      -0.001795           0.046157   \n",
       "Total.Minor.Injuries             -0.000623      -0.003396           0.098162   \n",
       "Total.Uninjured                  -0.348089      -0.049998           0.406058   \n",
       "\n",
       "                        Total.Fatal.Injuries  Total.Serious.Injuries  \\\n",
       "Investigation.Type                  0.024367                0.025172   \n",
       "Amateur.Built                      -0.012407               -0.001795   \n",
       "Number.of.Engines                   0.098505                0.046157   \n",
       "Total.Fatal.Injuries                1.000000                0.135724   \n",
       "Total.Serious.Injuries              0.135724                1.000000   \n",
       "Total.Minor.Injuries                0.073559                0.326849   \n",
       "Total.Uninjured                    -0.015214                0.052869   \n",
       "\n",
       "                        Total.Minor.Injuries  Total.Uninjured  \n",
       "Investigation.Type                 -0.000623        -0.348089  \n",
       "Amateur.Built                      -0.003396        -0.049998  \n",
       "Number.of.Engines                   0.098162         0.406058  \n",
       "Total.Fatal.Injuries                0.073559        -0.015214  \n",
       "Total.Serious.Injuries              0.326849         0.052869  \n",
       "Total.Minor.Injuries                1.000000         0.147770  \n",
       "Total.Uninjured                     0.147770         1.000000  "
      ]
     },
     "execution_count": 1988,
     "metadata": {},
     "output_type": "execute_result"
    }
   ],
   "source": [
    "#Checking correlation between numeric data\n",
    "aircraft_data.corr(numeric_only=True)"
   ]
  },
  {
   "cell_type": "markdown",
   "id": "52aff2a7-f17f-45e2-b7bb-5236c2764963",
   "metadata": {},
   "source": [
    "Cheking the correlation between numeric data there are negative correlations and weak corelation"
   ]
  },
  {
   "cell_type": "markdown",
   "id": "9e6c637a-80c2-4fe1-a907-b43bc8d7d1fa",
   "metadata": {},
   "source": [
    "# Cheking the Frequencies of Damages"
   ]
  },
  {
   "cell_type": "code",
   "execution_count": 1991,
   "id": "dccb5e0e-c4d0-4b99-be4c-edd315e72320",
   "metadata": {},
   "outputs": [],
   "source": [
    "#checking type of damages \n",
    "damage_counts=aircraft_data['Aircraft.damage'].value_counts()"
   ]
  },
  {
   "cell_type": "code",
   "execution_count": 1992,
   "id": "1874e2bd-6ff9-40dc-aa38-7d3c51f53b0e",
   "metadata": {},
   "outputs": [],
   "source": [
    "#create a the intensity of a damage and the find its mean to see where they lie\n",
    "aircraft_data['Severity.Score'] = aircraft_data['Aircraft.damage'].map({'Minor': 1, 'Substantial': 2, 'Destroyed': 3})"
   ]
  },
  {
   "cell_type": "code",
   "execution_count": 1993,
   "id": "4f578df3-d6ca-4d38-94ff-0df6b795d7f6",
   "metadata": {},
   "outputs": [],
   "source": [
    "# import matplotlib to draw graph and shows a plot inside Jupyter notebook\n",
    "import matplotlib.pyplot as plt\n",
    "%matplotlib inline"
   ]
  },
  {
   "cell_type": "code",
   "execution_count": 1994,
   "id": "f7d3d18e-46f1-472b-a3f8-fa76b80e0e7f",
   "metadata": {},
   "outputs": [
    {
     "data": {
      "image/png": "[encoded data removed]",
      "text/plain": [
       "<Figure size 640x480 with 1 Axes>"
      ]
     },
     "metadata": {},
     "output_type": "display_data"
    }
   ],
   "source": [
    "plt.bar(damage_counts.index, damage_counts.values,edgecolor='black', color= 'violet')\n",
    "plt.xlabel('Aircraft damage')\n",
    "plt.ylabel('Frequency of damages')\n",
    "plt.title(' Frequencies of damages')\n",
    "plt.show()"
   ]
  },
  {
   "cell_type": "code",
   "execution_count": 1995,
   "id": "cb3bc5e6-8ebb-4c12-ae97-169a36ca6d7b",
   "metadata": {},
   "outputs": [
    {
     "data": {
      "text/plain": [
       "Aircraft_type\n",
       "Cessna 152                  2366\n",
       "Cessna 172                  1753\n",
       "Cessna 172N                 1163\n",
       "Piper PA-28-140              932\n",
       "Cessna 150                   829\n",
       "                            ... \n",
       "Sherman Powell KITFOX IV       1\n",
       "Maule M5C                      1\n",
       "Smith SONERAI-I                1\n",
       "Shafer SONERAI-I               1\n",
       "Royse Ralph L GLASAIR          1\n",
       "Name: count, Length: 18245, dtype: int64"
      ]
     },
     "execution_count": 1995,
     "metadata": {},
     "output_type": "execute_result"
    }
   ],
   "source": [
    "aircraft_data['Aircraft_type'].value_counts()\n"
   ]
  },
  {
   "cell_type": "code",
   "execution_count": 1996,
   "id": "f8931892-27ad-4582-8c52-1c64db83dc86",
   "metadata": {},
   "outputs": [],
   "source": [
    "safety_df= aircraft_data.pivot_table(index='Aircraft_type', columns= 'Aircraft.damage' ,values ='Event.Id',aggfunc='count',fill_value=0)"
   ]
  },
  {
   "cell_type": "code",
   "execution_count": 1997,
   "id": "0fa40fd7-8f64-431d-81ed-fa9bfee2d71e",
   "metadata": {},
   "outputs": [
    {
     "data": {
      "text/html": [
       "<div>\n",
       "<style scoped>\n",
       "    .dataframe tbody tr th:only-of-type {\n",
       "        vertical-align: middle;\n",
       "    }\n",
       "\n",
       "    .dataframe tbody tr th {\n",
       "        vertical-align: top;\n",
       "    }\n",
       "\n",
       "    .dataframe thead th {\n",
       "        text-align: right;\n",
       "    }\n",
       "</style>\n",
       "<table border=\"1\" class=\"dataframe\">\n",
       "  <thead>\n",
       "    <tr style=\"text-align: right;\">\n",
       "      <th>Aircraft.damage</th>\n",
       "      <th>Destroyed</th>\n",
       "      <th>Minor</th>\n",
       "      <th>Substantial</th>\n",
       "      <th>Unknown</th>\n",
       "    </tr>\n",
       "    <tr>\n",
       "      <th>Aircraft_type</th>\n",
       "      <th></th>\n",
       "      <th></th>\n",
       "      <th></th>\n",
       "      <th></th>\n",
       "    </tr>\n",
       "  </thead>\n",
       "  <tbody>\n",
       "    <tr>\n",
       "      <th>2007 Savage Air Llc EPIC LT</th>\n",
       "      <td>0</td>\n",
       "      <td>1</td>\n",
       "      <td>0</td>\n",
       "      <td>0</td>\n",
       "    </tr>\n",
       "    <tr>\n",
       "      <th>Abruzzo GROM-1</th>\n",
       "      <td>0</td>\n",
       "      <td>1</td>\n",
       "      <td>0</td>\n",
       "      <td>0</td>\n",
       "    </tr>\n",
       "    <tr>\n",
       "      <th>Aero Commander 681B</th>\n",
       "      <td>0</td>\n",
       "      <td>1</td>\n",
       "      <td>0</td>\n",
       "      <td>0</td>\n",
       "    </tr>\n",
       "    <tr>\n",
       "      <th>Aerospatiale A-300B4</th>\n",
       "      <td>0</td>\n",
       "      <td>1</td>\n",
       "      <td>0</td>\n",
       "      <td>0</td>\n",
       "    </tr>\n",
       "    <tr>\n",
       "      <th>Aerospatiale ATR-42</th>\n",
       "      <td>0</td>\n",
       "      <td>1</td>\n",
       "      <td>0</td>\n",
       "      <td>0</td>\n",
       "    </tr>\n",
       "    <tr>\n",
       "      <th>...</th>\n",
       "      <td>...</td>\n",
       "      <td>...</td>\n",
       "      <td>...</td>\n",
       "      <td>...</td>\n",
       "    </tr>\n",
       "    <tr>\n",
       "      <th>Unknown GLIDER TRYKE</th>\n",
       "      <td>0</td>\n",
       "      <td>1</td>\n",
       "      <td>0</td>\n",
       "      <td>0</td>\n",
       "    </tr>\n",
       "    <tr>\n",
       "      <th>Us/Lta 138-S</th>\n",
       "      <td>0</td>\n",
       "      <td>1</td>\n",
       "      <td>0</td>\n",
       "      <td>0</td>\n",
       "    </tr>\n",
       "    <tr>\n",
       "      <th>Wayne Hooks CASSUTT III-M</th>\n",
       "      <td>0</td>\n",
       "      <td>1</td>\n",
       "      <td>0</td>\n",
       "      <td>0</td>\n",
       "    </tr>\n",
       "    <tr>\n",
       "      <th>Wizard W-1</th>\n",
       "      <td>0</td>\n",
       "      <td>1</td>\n",
       "      <td>0</td>\n",
       "      <td>0</td>\n",
       "    </tr>\n",
       "    <tr>\n",
       "      <th>Young Robert Herman WOODY PUSHER</th>\n",
       "      <td>0</td>\n",
       "      <td>1</td>\n",
       "      <td>0</td>\n",
       "      <td>0</td>\n",
       "    </tr>\n",
       "  </tbody>\n",
       "</table>\n",
       "<p>566 rows × 4 columns</p>\n",
       "</div>"
      ],
      "text/plain": [
       "Aircraft.damage                   Destroyed  Minor  Substantial  Unknown\n",
       "Aircraft_type                                                           \n",
       "2007 Savage Air Llc EPIC LT               0      1            0        0\n",
       "Abruzzo GROM-1                            0      1            0        0\n",
       "Aero Commander 681B                       0      1            0        0\n",
       "Aerospatiale A-300B4                      0      1            0        0\n",
       "Aerospatiale ATR-42                       0      1            0        0\n",
       "...                                     ...    ...          ...      ...\n",
       "Unknown GLIDER TRYKE                      0      1            0        0\n",
       "Us/Lta 138-S                              0      1            0        0\n",
       "Wayne Hooks CASSUTT III-M                 0      1            0        0\n",
       "Wizard W-1                                0      1            0        0\n",
       "Young Robert Herman WOODY PUSHER          0      1            0        0\n",
       "\n",
       "[566 rows x 4 columns]"
      ]
     },
     "execution_count": 1997,
     "metadata": {},
     "output_type": "execute_result"
    }
   ],
   "source": [
    "minor_damages_safe=safety_df[(safety_df['Destroyed']==0) & (safety_df['Minor']==1) & (safety_df['Substantial']==0)]\n",
    "minor_damages_safe"
   ]
  },
  {
   "cell_type": "code",
   "execution_count": 1998,
   "id": "07e94d43-5dd7-4fab-989d-e8dcfa398991",
   "metadata": {},
   "outputs": [],
   "source": [
    "aircrafts_safe_list= list(minor_damages_safe.index)"
   ]
  },
  {
   "cell_type": "markdown",
   "id": "4a76a814-a962-42d2-81d3-51ec0d4a7cd8",
   "metadata": {},
   "source": [
    "# Number of engines\n",
    "![Aircraft Engine](./image/airplane_engine.jpg)"
   ]
  },
  {
   "cell_type": "code",
   "execution_count": 2000,
   "id": "add962e2-6481-4a33-9c0c-4eca18afcd4d",
   "metadata": {},
   "outputs": [
    {
     "data": {
      "text/html": [
       "<div>\n",
       "<style scoped>\n",
       "    .dataframe tbody tr th:only-of-type {\n",
       "        vertical-align: middle;\n",
       "    }\n",
       "\n",
       "    .dataframe tbody tr th {\n",
       "        vertical-align: top;\n",
       "    }\n",
       "\n",
       "    .dataframe thead th {\n",
       "        text-align: right;\n",
       "    }\n",
       "</style>\n",
       "<table border=\"1\" class=\"dataframe\">\n",
       "  <thead>\n",
       "    <tr style=\"text-align: right;\">\n",
       "      <th>Aircraft.damage</th>\n",
       "      <th>Destroyed</th>\n",
       "      <th>Minor</th>\n",
       "      <th>Substantial</th>\n",
       "      <th>Unknown</th>\n",
       "    </tr>\n",
       "    <tr>\n",
       "      <th>Number.of.Engines</th>\n",
       "      <th></th>\n",
       "      <th></th>\n",
       "      <th></th>\n",
       "      <th></th>\n",
       "    </tr>\n",
       "  </thead>\n",
       "  <tbody>\n",
       "    <tr>\n",
       "      <th>0.0</th>\n",
       "      <td>173</td>\n",
       "      <td>74</td>\n",
       "      <td>842</td>\n",
       "      <td>2</td>\n",
       "    </tr>\n",
       "    <tr>\n",
       "      <th>1.0</th>\n",
       "      <td>13862</td>\n",
       "      <td>726</td>\n",
       "      <td>54565</td>\n",
       "      <td>50</td>\n",
       "    </tr>\n",
       "    <tr>\n",
       "      <th>2.0</th>\n",
       "      <td>2871</td>\n",
       "      <td>1095</td>\n",
       "      <td>5868</td>\n",
       "      <td>9</td>\n",
       "    </tr>\n",
       "    <tr>\n",
       "      <th>3.0</th>\n",
       "      <td>25</td>\n",
       "      <td>197</td>\n",
       "      <td>104</td>\n",
       "      <td>0</td>\n",
       "    </tr>\n",
       "    <tr>\n",
       "      <th>4.0</th>\n",
       "      <td>58</td>\n",
       "      <td>145</td>\n",
       "      <td>114</td>\n",
       "      <td>0</td>\n",
       "    </tr>\n",
       "    <tr>\n",
       "      <th>6.0</th>\n",
       "      <td>0</td>\n",
       "      <td>0</td>\n",
       "      <td>1</td>\n",
       "      <td>0</td>\n",
       "    </tr>\n",
       "    <tr>\n",
       "      <th>8.0</th>\n",
       "      <td>0</td>\n",
       "      <td>0</td>\n",
       "      <td>2</td>\n",
       "      <td>0</td>\n",
       "    </tr>\n",
       "  </tbody>\n",
       "</table>\n",
       "</div>"
      ],
      "text/plain": [
       "Aircraft.damage    Destroyed  Minor  Substantial  Unknown\n",
       "Number.of.Engines                                        \n",
       "0.0                      173     74          842        2\n",
       "1.0                    13862    726        54565       50\n",
       "2.0                     2871   1095         5868        9\n",
       "3.0                       25    197          104        0\n",
       "4.0                       58    145          114        0\n",
       "6.0                        0      0            1        0\n",
       "8.0                        0      0            2        0"
      ]
     },
     "execution_count": 2000,
     "metadata": {},
     "output_type": "execute_result"
    }
   ],
   "source": [
    "#grouping the number of engines to the aircraft damage\n",
    "safe_numberof_engines=aircraft_data.pivot_table(index='Number.of.Engines', columns= 'Aircraft.damage' ,values ='Event.Id',aggfunc='count',fill_value=0)\n",
    "safe_numberof_engines"
   ]
  },
  {
   "cell_type": "code",
   "execution_count": 2001,
   "id": "f3170b8a-8d8a-47b9-9ded-ea27e399fa82",
   "metadata": {},
   "outputs": [
    {
     "data": {
      "text/plain": [
       "Number.of.Engines\n",
       "3.0    1.472393\n",
       "4.0    1.725552\n",
       "6.0    2.000000\n",
       "8.0    2.000000\n",
       "0.0    2.090909\n",
       "2.0    2.180598\n",
       "1.0    2.189956\n",
       "Name: Severity.Score, dtype: float64"
      ]
     },
     "execution_count": 2001,
     "metadata": {},
     "output_type": "execute_result"
    }
   ],
   "source": [
    "engine_number_score=aircraft_data.groupby('Number.of.Engines')['Severity.Score'].mean().sort_values()\n",
    "engine_number_score"
   ]
  },
  {
   "cell_type": "code",
   "execution_count": 2002,
   "id": "8517e07f-6e94-43cc-8e7b-307ee269e42d",
   "metadata": {},
   "outputs": [
    {
     "data": {
      "text/plain": [
       "[3.0, 4.0]"
      ]
     },
     "execution_count": 2002,
     "metadata": {},
     "output_type": "execute_result"
    }
   ],
   "source": [
    "safe_engine_numbers= list(engine_number_score[engine_number_score < 2].index)\n",
    "safe_engine_numbers"
   ]
  },
  {
   "cell_type": "markdown",
   "id": "4f8ae2e3-d0d6-427d-9777-f01dd13c7051",
   "metadata": {},
   "source": [
    "Its safe to assume that 3 and 4 engines are the most safer due to the minor severity score"
   ]
  },
  {
   "cell_type": "code",
   "execution_count": 2004,
   "id": "481d78d3-7484-4a11-8f8b-47bf1ee1cd09",
   "metadata": {},
   "outputs": [
    {
     "data": {
      "image/png": "[encoded data removed]",
      "text/plain": [
       "<Figure size 1000x600 with 1 Axes>"
      ]
     },
     "metadata": {},
     "output_type": "display_data"
    }
   ],
   "source": [
    "# plotting a graph to indicate number of engines by aircraft dama\n",
    "fig,ax= plt.subplots(figsize=(10,6))\n",
    "\n",
    "# plotting a stacked bar graph\n",
    "safe_numberof_engines.plot(kind='bar', stacked=True, ax=ax, colormap='Set3')\n",
    "\n",
    "# customize the chart\n",
    "ax.set_title('Aircraft Damage by Number of Engines')\n",
    "ax.set_xlabel('Number of Engines')\n",
    "ax.set_ylabel('Number of Incidents')\n",
    "ax.legend(title='Aircraft Damage Type')\n",
    "plt.xticks(rotation=0)\n",
    "plt.tight_layout()\n",
    "\n",
    "plt.show()"
   ]
  },
  {
   "cell_type": "markdown",
   "id": "59ba5287-e62b-4d91-9d7b-ffebd0dfcaf2",
   "metadata": {},
   "source": [
    "# Incidents and Accidents by Number of Engines"
   ]
  },
  {
   "cell_type": "code",
   "execution_count": 2006,
   "id": "2650aba4-7f6d-45ca-8fb2-2bb6c0681fb2",
   "metadata": {},
   "outputs": [
    {
     "data": {
      "image/png": "[encoded data removed]",
      "text/plain": [
       "<Figure size 800x600 with 1 Axes>"
      ]
     },
     "metadata": {},
     "output_type": "display_data"
    }
   ],
   "source": [
    "#Group and count combinations of Engine count vs Type of investigation\n",
    "engine_investigation_counts = aircraft_data.groupby(['Number.of.Engines', 'Investigation.Type']).size().unstack(fill_value=0)\n",
    "\n",
    "# Rename the columns for clarity\n",
    "engine_investigation_counts.columns = ['Incident (0)', 'Accident (1)']\n",
    "\n",
    "# Plot using fig and ax\n",
    "fig, ax = plt.subplots(figsize=(8, 6))\n",
    "engine_investigation_counts.plot(kind='bar', ax=ax, color=['skyblue', 'salmon'])\n",
    "\n",
    "#Customize the plot\n",
    "ax.set_title('Incidents and Accidents by Number of Engines')\n",
    "ax.set_xlabel('Number of Engines')\n",
    "ax.set_ylabel('Count')\n",
    "ax.legend(title='Type of Investigation')\n",
    "ax.set_xticklabels(engine_investigation_counts.index.astype(str),rotation=0)\n",
    "\n",
    "#Show the plot\n",
    "plt.tight_layout()\n",
    "plt.show()\n",
    "\n"
   ]
  },
  {
   "cell_type": "markdown",
   "id": "901f9298-0fd8-47f1-a86b-c5a2bfbefaa7",
   "metadata": {},
   "source": [
    "Observation: aircrafts with one engine has the most accidents "
   ]
  },
  {
   "cell_type": "markdown",
   "id": "b2754d7c-3bb6-4e70-a3fd-901e72aed6fc",
   "metadata": {},
   "source": [
    "# Type of engines by damages"
   ]
  },
  {
   "cell_type": "code",
   "execution_count": 2009,
   "id": "9cd8a494-2994-4fa4-8707-583d82e8635f",
   "metadata": {},
   "outputs": [
    {
     "data": {
      "text/html": [
       "<div>\n",
       "<style scoped>\n",
       "    .dataframe tbody tr th:only-of-type {\n",
       "        vertical-align: middle;\n",
       "    }\n",
       "\n",
       "    .dataframe tbody tr th {\n",
       "        vertical-align: top;\n",
       "    }\n",
       "\n",
       "    .dataframe thead th {\n",
       "        text-align: right;\n",
       "    }\n",
       "</style>\n",
       "<table border=\"1\" class=\"dataframe\">\n",
       "  <thead>\n",
       "    <tr style=\"text-align: right;\">\n",
       "      <th>Aircraft.damage</th>\n",
       "      <th>Destroyed</th>\n",
       "      <th>Minor</th>\n",
       "      <th>Substantial</th>\n",
       "      <th>Unknown</th>\n",
       "    </tr>\n",
       "    <tr>\n",
       "      <th>Engine.Type</th>\n",
       "      <th></th>\n",
       "      <th></th>\n",
       "      <th></th>\n",
       "      <th></th>\n",
       "    </tr>\n",
       "  </thead>\n",
       "  <tbody>\n",
       "    <tr>\n",
       "      <th>Electric</th>\n",
       "      <td>2</td>\n",
       "      <td>0</td>\n",
       "      <td>8</td>\n",
       "      <td>0</td>\n",
       "    </tr>\n",
       "    <tr>\n",
       "      <th>Geared Turbofan</th>\n",
       "      <td>0</td>\n",
       "      <td>1</td>\n",
       "      <td>0</td>\n",
       "      <td>0</td>\n",
       "    </tr>\n",
       "    <tr>\n",
       "      <th>Hybrid Rocket</th>\n",
       "      <td>1</td>\n",
       "      <td>0</td>\n",
       "      <td>0</td>\n",
       "      <td>0</td>\n",
       "    </tr>\n",
       "    <tr>\n",
       "      <th>LR</th>\n",
       "      <td>0</td>\n",
       "      <td>0</td>\n",
       "      <td>1</td>\n",
       "      <td>0</td>\n",
       "    </tr>\n",
       "    <tr>\n",
       "      <th>NONE</th>\n",
       "      <td>0</td>\n",
       "      <td>0</td>\n",
       "      <td>2</td>\n",
       "      <td>0</td>\n",
       "    </tr>\n",
       "    <tr>\n",
       "      <th>Reciprocating</th>\n",
       "      <td>14529</td>\n",
       "      <td>853</td>\n",
       "      <td>53805</td>\n",
       "      <td>6</td>\n",
       "    </tr>\n",
       "    <tr>\n",
       "      <th>Turbo Fan</th>\n",
       "      <td>196</td>\n",
       "      <td>670</td>\n",
       "      <td>730</td>\n",
       "      <td>0</td>\n",
       "    </tr>\n",
       "    <tr>\n",
       "      <th>Turbo Jet</th>\n",
       "      <td>140</td>\n",
       "      <td>162</td>\n",
       "      <td>234</td>\n",
       "      <td>0</td>\n",
       "    </tr>\n",
       "    <tr>\n",
       "      <th>Turbo Prop</th>\n",
       "      <td>807</td>\n",
       "      <td>306</td>\n",
       "      <td>2035</td>\n",
       "      <td>0</td>\n",
       "    </tr>\n",
       "    <tr>\n",
       "      <th>Turbo Shaft</th>\n",
       "      <td>879</td>\n",
       "      <td>91</td>\n",
       "      <td>2549</td>\n",
       "      <td>0</td>\n",
       "    </tr>\n",
       "    <tr>\n",
       "      <th>UNK</th>\n",
       "      <td>0</td>\n",
       "      <td>0</td>\n",
       "      <td>1</td>\n",
       "      <td>0</td>\n",
       "    </tr>\n",
       "    <tr>\n",
       "      <th>Unknown</th>\n",
       "      <td>544</td>\n",
       "      <td>132</td>\n",
       "      <td>1133</td>\n",
       "      <td>0</td>\n",
       "    </tr>\n",
       "  </tbody>\n",
       "</table>\n",
       "</div>"
      ],
      "text/plain": [
       "Aircraft.damage  Destroyed  Minor  Substantial  Unknown\n",
       "Engine.Type                                            \n",
       "Electric                 2      0            8        0\n",
       "Geared Turbofan          0      1            0        0\n",
       "Hybrid Rocket            1      0            0        0\n",
       "LR                       0      0            1        0\n",
       "NONE                     0      0            2        0\n",
       "Reciprocating        14529    853        53805        6\n",
       "Turbo Fan              196    670          730        0\n",
       "Turbo Jet              140    162          234        0\n",
       "Turbo Prop             807    306         2035        0\n",
       "Turbo Shaft            879     91         2549        0\n",
       "UNK                      0      0            1        0\n",
       "Unknown                544    132         1133        0"
      ]
     },
     "execution_count": 2009,
     "metadata": {},
     "output_type": "execute_result"
    }
   ],
   "source": [
    "safe_type_of_engines=aircraft_data.pivot_table(index='Engine.Type', columns= 'Aircraft.damage' ,values ='Event.Id',aggfunc='count',fill_value=0)\n",
    "safe_type_of_engines"
   ]
  },
  {
   "cell_type": "code",
   "execution_count": 2010,
   "id": "0a721f89-608d-446f-9334-0d43892887f9",
   "metadata": {},
   "outputs": [],
   "source": [
    " engine_score=aircraft_data.groupby('Engine.Type')['Severity.Score'].mean().sort_values()"
   ]
  },
  {
   "cell_type": "code",
   "execution_count": 2011,
   "id": "9b331ac6-5aaf-494b-811a-2a7b9a110766",
   "metadata": {},
   "outputs": [
    {
     "data": {
      "text/plain": [
       "['Geared Turbofan', 'Turbo Fan', 'Turbo Jet']"
      ]
     },
     "execution_count": 2011,
     "metadata": {},
     "output_type": "execute_result"
    }
   ],
   "source": [
    "# create a list of engine type with less than 2 score\n",
    "safe_engine_type = list(engine_score[engine_score < 2].index)\n",
    "safe_engine_type"
   ]
  },
  {
   "cell_type": "markdown",
   "id": "6148ba0d-b1a5-408d-8ee7-99e7e155e1f8",
   "metadata": {},
   "source": [
    "## Weather Condition with Higher number of damages "
   ]
  },
  {
   "cell_type": "code",
   "execution_count": 2013,
   "id": "818b6acf-66f0-45ab-842f-60f653ba276e",
   "metadata": {},
   "outputs": [
    {
     "data": {
      "text/plain": [
       "Weather.Condition\n",
       "VMC    81795\n",
       "IMC     5976\n",
       "UNK     1118\n",
       "Name: count, dtype: int64"
      ]
     },
     "execution_count": 2013,
     "metadata": {},
     "output_type": "execute_result"
    }
   ],
   "source": [
    "aircraft_data['Weather.Condition'].value_counts()"
   ]
  },
  {
   "cell_type": "markdown",
   "id": "c5f77d6d-8c76-46d9-ac42-a3d8a784732f",
   "metadata": {},
   "source": [
    "A number of incidents occurred under favorable weather conditions `VMC`. This suggests that weather may not have been the primary contributing factor in these cases. Further analysis is needed to explore other contributing factors such as pilot experience, mechanical failure, or maintenance history.\""
   ]
  },
  {
   "cell_type": "code",
   "execution_count": 2015,
   "id": "a67ebf23-a10e-4b48-b04c-e9c9297b13fd",
   "metadata": {},
   "outputs": [
    {
     "data": {
      "image/png": "[encoded data removed]",
      "text/plain": [
       "<Figure size 800x600 with 1 Axes>"
      ]
     },
     "metadata": {},
     "output_type": "display_data"
    }
   ],
   "source": [
    "# graph showing how weather condition infuenced incidents and accidents\n",
    "engine_investigation_counts = aircraft_data.groupby(['Weather.Condition', 'Investigation.Type']).size().unstack(fill_value=0)\n",
    "\n",
    "# Rename the columns for clarity\n",
    "engine_investigation_counts.columns = ['Incident (0)', 'Accident (1)']\n",
    "\n",
    "# Plot using fig and ax\n",
    "fig, ax = plt.subplots(figsize=(8, 6))\n",
    "engine_investigation_counts.plot(kind='bar', ax=ax, color=['skyblue', 'orange'])\n",
    "\n",
    "#Customize the plot\n",
    "ax.set_title('Incidents and Accidents by Number of Engines')\n",
    "ax.set_xlabel('Weather Condition')\n",
    "ax.set_ylabel('Count')\n",
    "ax.legend(title='Type of Investigation', loc= 2)\n",
    "ax.set_xticklabels(engine_investigation_counts.index.astype(str),rotation=0)\n",
    "\n",
    "#Show the plot\n",
    "plt.tight_layout()\n",
    "plt.show()\n",
    "\n"
   ]
  },
  {
   "cell_type": "markdown",
   "id": "c83800a0-3f79-4308-80e3-07ec285a865b",
   "metadata": {},
   "source": [
    "## Grouping the purpose of flight to Aircraft.damage\n"
   ]
  },
  {
   "cell_type": "code",
   "execution_count": 2017,
   "id": "15c4817c-9ce0-44a7-8ad4-36cb6e7f8e71",
   "metadata": {},
   "outputs": [
    {
     "data": {
      "text/html": [
       "<div>\n",
       "<style scoped>\n",
       "    .dataframe tbody tr th:only-of-type {\n",
       "        vertical-align: middle;\n",
       "    }\n",
       "\n",
       "    .dataframe tbody tr th {\n",
       "        vertical-align: top;\n",
       "    }\n",
       "\n",
       "    .dataframe thead th {\n",
       "        text-align: right;\n",
       "    }\n",
       "</style>\n",
       "<table border=\"1\" class=\"dataframe\">\n",
       "  <thead>\n",
       "    <tr style=\"text-align: right;\">\n",
       "      <th>Aircraft.damage</th>\n",
       "      <th>Destroyed</th>\n",
       "      <th>Minor</th>\n",
       "      <th>Substantial</th>\n",
       "      <th>Unknown</th>\n",
       "    </tr>\n",
       "    <tr>\n",
       "      <th>Purpose.of.flight</th>\n",
       "      <th></th>\n",
       "      <th></th>\n",
       "      <th></th>\n",
       "      <th></th>\n",
       "    </tr>\n",
       "  </thead>\n",
       "  <tbody>\n",
       "    <tr>\n",
       "      <th>Personal</th>\n",
       "      <td>11678</td>\n",
       "      <td>1380</td>\n",
       "      <td>40505</td>\n",
       "      <td>99</td>\n",
       "    </tr>\n",
       "    <tr>\n",
       "      <th>Instructional</th>\n",
       "      <td>1212</td>\n",
       "      <td>159</td>\n",
       "      <td>9146</td>\n",
       "      <td>10</td>\n",
       "    </tr>\n",
       "    <tr>\n",
       "      <th>Aerial Application</th>\n",
       "      <td>1069</td>\n",
       "      <td>28</td>\n",
       "      <td>3600</td>\n",
       "      <td>1</td>\n",
       "    </tr>\n",
       "    <tr>\n",
       "      <th>Unknown</th>\n",
       "      <td>1745</td>\n",
       "      <td>895</td>\n",
       "      <td>3337</td>\n",
       "      <td>1</td>\n",
       "    </tr>\n",
       "    <tr>\n",
       "      <th>Business</th>\n",
       "      <td>1186</td>\n",
       "      <td>107</td>\n",
       "      <td>2630</td>\n",
       "      <td>3</td>\n",
       "    </tr>\n",
       "    <tr>\n",
       "      <th>Positioning</th>\n",
       "      <td>412</td>\n",
       "      <td>72</td>\n",
       "      <td>1119</td>\n",
       "      <td>0</td>\n",
       "    </tr>\n",
       "    <tr>\n",
       "      <th>Other Work Use</th>\n",
       "      <td>266</td>\n",
       "      <td>44</td>\n",
       "      <td>896</td>\n",
       "      <td>1</td>\n",
       "    </tr>\n",
       "    <tr>\n",
       "      <th>Ferry</th>\n",
       "      <td>235</td>\n",
       "      <td>27</td>\n",
       "      <td>543</td>\n",
       "      <td>0</td>\n",
       "    </tr>\n",
       "    <tr>\n",
       "      <th>Aerial Observation</th>\n",
       "      <td>225</td>\n",
       "      <td>12</td>\n",
       "      <td>536</td>\n",
       "      <td>1</td>\n",
       "    </tr>\n",
       "    <tr>\n",
       "      <th>Public Aircraft</th>\n",
       "      <td>209</td>\n",
       "      <td>20</td>\n",
       "      <td>478</td>\n",
       "      <td>0</td>\n",
       "    </tr>\n",
       "    <tr>\n",
       "      <th>Executive/corporate</th>\n",
       "      <td>159</td>\n",
       "      <td>33</td>\n",
       "      <td>331</td>\n",
       "      <td>2</td>\n",
       "    </tr>\n",
       "    <tr>\n",
       "      <th>Flight Test</th>\n",
       "      <td>68</td>\n",
       "      <td>7</td>\n",
       "      <td>322</td>\n",
       "      <td>0</td>\n",
       "    </tr>\n",
       "    <tr>\n",
       "      <th>Skydiving</th>\n",
       "      <td>38</td>\n",
       "      <td>9</td>\n",
       "      <td>131</td>\n",
       "      <td>0</td>\n",
       "    </tr>\n",
       "    <tr>\n",
       "      <th>External Load</th>\n",
       "      <td>16</td>\n",
       "      <td>0</td>\n",
       "      <td>99</td>\n",
       "      <td>0</td>\n",
       "    </tr>\n",
       "    <tr>\n",
       "      <th>Banner Tow</th>\n",
       "      <td>9</td>\n",
       "      <td>0</td>\n",
       "      <td>92</td>\n",
       "      <td>0</td>\n",
       "    </tr>\n",
       "    <tr>\n",
       "      <th>Public Aircraft - Federal</th>\n",
       "      <td>18</td>\n",
       "      <td>0</td>\n",
       "      <td>84</td>\n",
       "      <td>0</td>\n",
       "    </tr>\n",
       "    <tr>\n",
       "      <th>Public Aircraft - Local</th>\n",
       "      <td>3</td>\n",
       "      <td>1</td>\n",
       "      <td>65</td>\n",
       "      <td>1</td>\n",
       "    </tr>\n",
       "    <tr>\n",
       "      <th>Air Race show</th>\n",
       "      <td>20</td>\n",
       "      <td>6</td>\n",
       "      <td>64</td>\n",
       "      <td>0</td>\n",
       "    </tr>\n",
       "    <tr>\n",
       "      <th>Public Aircraft - State</th>\n",
       "      <td>7</td>\n",
       "      <td>1</td>\n",
       "      <td>53</td>\n",
       "      <td>0</td>\n",
       "    </tr>\n",
       "    <tr>\n",
       "      <th>Glider Tow</th>\n",
       "      <td>5</td>\n",
       "      <td>1</td>\n",
       "      <td>47</td>\n",
       "      <td>0</td>\n",
       "    </tr>\n",
       "    <tr>\n",
       "      <th>Air Race/show</th>\n",
       "      <td>20</td>\n",
       "      <td>3</td>\n",
       "      <td>33</td>\n",
       "      <td>0</td>\n",
       "    </tr>\n",
       "    <tr>\n",
       "      <th>Firefighting</th>\n",
       "      <td>15</td>\n",
       "      <td>0</td>\n",
       "      <td>23</td>\n",
       "      <td>0</td>\n",
       "    </tr>\n",
       "    <tr>\n",
       "      <th>Air Drop</th>\n",
       "      <td>4</td>\n",
       "      <td>0</td>\n",
       "      <td>7</td>\n",
       "      <td>0</td>\n",
       "    </tr>\n",
       "    <tr>\n",
       "      <th>PUBS</th>\n",
       "      <td>0</td>\n",
       "      <td>0</td>\n",
       "      <td>4</td>\n",
       "      <td>0</td>\n",
       "    </tr>\n",
       "    <tr>\n",
       "      <th>ASHO</th>\n",
       "      <td>4</td>\n",
       "      <td>0</td>\n",
       "      <td>2</td>\n",
       "      <td>0</td>\n",
       "    </tr>\n",
       "    <tr>\n",
       "      <th>PUBL</th>\n",
       "      <td>0</td>\n",
       "      <td>0</td>\n",
       "      <td>1</td>\n",
       "      <td>0</td>\n",
       "    </tr>\n",
       "  </tbody>\n",
       "</table>\n",
       "</div>"
      ],
      "text/plain": [
       "Aircraft.damage            Destroyed  Minor  Substantial  Unknown\n",
       "Purpose.of.flight                                                \n",
       "Personal                       11678   1380        40505       99\n",
       "Instructional                   1212    159         9146       10\n",
       "Aerial Application              1069     28         3600        1\n",
       "Unknown                         1745    895         3337        1\n",
       "Business                        1186    107         2630        3\n",
       "Positioning                      412     72         1119        0\n",
       "Other Work Use                   266     44          896        1\n",
       "Ferry                            235     27          543        0\n",
       "Aerial Observation               225     12          536        1\n",
       "Public Aircraft                  209     20          478        0\n",
       "Executive/corporate              159     33          331        2\n",
       "Flight Test                       68      7          322        0\n",
       "Skydiving                         38      9          131        0\n",
       "External Load                     16      0           99        0\n",
       "Banner Tow                         9      0           92        0\n",
       "Public Aircraft - Federal         18      0           84        0\n",
       "Public Aircraft - Local            3      1           65        1\n",
       "Air Race show                     20      6           64        0\n",
       "Public Aircraft - State            7      1           53        0\n",
       "Glider Tow                         5      1           47        0\n",
       "Air Race/show                     20      3           33        0\n",
       "Firefighting                      15      0           23        0\n",
       "Air Drop                           4      0            7        0\n",
       "PUBS                               0      0            4        0\n",
       "ASHO                               4      0            2        0\n",
       "PUBL                               0      0            1        0"
      ]
     },
     "execution_count": 2017,
     "metadata": {},
     "output_type": "execute_result"
    }
   ],
   "source": [
    "purpose_safety=aircraft_data.pivot_table(index='Purpose.of.flight', columns= 'Aircraft.damage' ,values ='Event.Id',aggfunc='count',fill_value=0)\n",
    "purpose_safety.sort_values(by='Substantial', ascending = False)"
   ]
  },
  {
   "cell_type": "code",
   "execution_count": 2018,
   "id": "ce9707b1-9a8a-4c8f-9d74-2ade25b5e04a",
   "metadata": {},
   "outputs": [
    {
     "data": {
      "text/plain": [
       "Purpose.of.flight\n",
       "PUBS                         2.000000\n",
       "PUBL                         2.000000\n",
       "Public Aircraft - Local      2.028986\n",
       "Glider Tow                   2.075472\n",
       "Banner Tow                   2.089109\n",
       "Public Aircraft - State      2.098361\n",
       "Instructional                2.100124\n",
       "External Load                2.139130\n",
       "Unknown                      2.142212\n",
       "Flight Test                  2.153652\n",
       "Air Race show                2.155556\n",
       "Skydiving                    2.162921\n",
       "Public Aircraft - Federal    2.176471\n",
       "Other Work Use               2.184080\n",
       "Personal                     2.192260\n",
       "Positioning                  2.212102\n",
       "Aerial Application           2.221631\n",
       "Executive/corporate          2.240918\n",
       "Ferry                        2.258385\n",
       "Public Aircraft              2.267327\n",
       "Business                     2.275045\n",
       "Aerial Observation           2.275550\n",
       "Air Race/show                2.303571\n",
       "Air Drop                     2.363636\n",
       "Firefighting                 2.394737\n",
       "ASHO                         2.666667\n",
       "Name: Severity.Score, dtype: float64"
      ]
     },
     "execution_count": 2018,
     "metadata": {},
     "output_type": "execute_result"
    }
   ],
   "source": [
    "safety_by_purpose = aircraft_data.groupby('Purpose.of.flight')['Severity.Score'].mean().sort_values()\n",
    "safety_by_purpose"
   ]
  },
  {
   "cell_type": "markdown",
   "id": "b7f9497b-e019-4cbd-98e3-5690754ca68b",
   "metadata": {},
   "source": [
    "Observation: most severity score lie on 2. ,this means that most damage is substantial since, thats the score of the substantial. "
   ]
  },
  {
   "cell_type": "markdown",
   "id": "5ca71c53-dd51-4fef-a811-f822b11baaed",
   "metadata": {},
   "source": [
    "## Graph indicating the number of incidents over the years"
   ]
  },
  {
   "cell_type": "code",
   "execution_count": 2021,
   "id": "768a41af-2fb3-4c7a-9453-c082f52a700b",
   "metadata": {},
   "outputs": [
    {
     "data": {
      "image/png": "[encoded data removed]",
      "text/plain": [
       "<Figure size 1000x600 with 1 Axes>"
      ]
     },
     "metadata": {},
     "output_type": "display_data"
    }
   ],
   "source": [
    "# change the 'Event.date' to a datetime format\n",
    "aircraft_data['Event.Date']=pd.to_datetime(aircraft_data['Event.Date'])\n",
    "# Extract the year\n",
    "aircraft_data['Event.Year'] = aircraft_data['Event.Date'].dt.year\n",
    "# filter for incidents only\n",
    "incidents_df=aircraft_data[aircraft_data['Investigation.Type'] ==0]\n",
    "#count incidents per year\n",
    "incidents_per_year= incidents_df['Event.Year'].value_counts().sort_index()\n",
    "#plot\n",
    "fig, ax =plt.subplots(figsize=(10,6))\n",
    "incidents_per_year.plot(kind='line', ax=ax, marker = 'o') \n",
    "ax.set_xlabel('Year')\n",
    "ax.set_ylabel('Number of Incidents')\n",
    "ax.set_title('Number of incidents over the years')\n",
    "plt.show()"
   ]
  },
  {
   "cell_type": "markdown",
   "id": "c98aa853-9cf1-41c6-ba54-7d30c25a18f7",
   "metadata": {},
   "source": [
    "2010 had the highest number of incidents"
   ]
  },
  {
   "cell_type": "markdown",
   "id": "35982e5c-f298-4fe5-a907-8cc68493feea",
   "metadata": {},
   "source": [
    "## Checking Number of accidents over the years"
   ]
  },
  {
   "cell_type": "code",
   "execution_count": 2024,
   "id": "720c1b79-31f0-4116-95df-aa6c60529479",
   "metadata": {},
   "outputs": [
    {
     "data": {
      "image/png": "[encoded data removed]",
      "text/plain": [
       "<Figure size 1000x800 with 1 Axes>"
      ]
     },
     "metadata": {},
     "output_type": "display_data"
    }
   ],
   "source": [
    "accidents_df=aircraft_data[aircraft_data['Investigation.Type'] ==1]\n",
    "#count incidents per year\n",
    "accidents_per_year= accidents_df['Event.Year'].value_counts().sort_index()\n",
    "#plot\n",
    "fig, ax =plt.subplots(figsize=(10,8))\n",
    "accidents_per_year.plot(kind='bar', ax=ax,color='salmon') \n",
    "ax.set_xlabel('Year')\n",
    "ax.set_ylabel('Number of accidents')\n",
    "ax.set_title('Number of accidents over the years')\n",
    "plt.show()"
   ]
  },
  {
   "cell_type": "markdown",
   "id": "e89d2983-49bf-4c6c-8d35-8529ec974a2f",
   "metadata": {},
   "source": [
    "The number of accidents over the years appears to be decreasing, which is a positive indication. This trend may suggest improvements in aircraft technology, safety regulations, pilot training, or maintenance practices over time."
   ]
  },
  {
   "cell_type": "code",
   "execution_count": 2026,
   "id": "a1a71dc0-2e2f-4f76-b1e2-04ca888806cc",
   "metadata": {},
   "outputs": [],
   "source": [
    "#Checking the best aircrfat from the observation we made above\n",
    "filtered_df= aircraft_data[(aircraft_data['Aircraft_type'].isin(aircrafts_safe_list))\n",
    "& (aircraft_data['Engine.Type'].isin(safe_engine_type)) \n",
    "& (aircraft_data['Number.of.Engines'].isin(safe_engine_numbers))]"
   ]
  },
  {
   "cell_type": "code",
   "execution_count": 2027,
   "id": "a3272f8f-928b-4ee6-a653-d30ae4d3e24a",
   "metadata": {},
   "outputs": [
    {
     "data": {
      "text/html": [
       "<div>\n",
       "<style scoped>\n",
       "    .dataframe tbody tr th:only-of-type {\n",
       "        vertical-align: middle;\n",
       "    }\n",
       "\n",
       "    .dataframe tbody tr th {\n",
       "        vertical-align: top;\n",
       "    }\n",
       "\n",
       "    .dataframe thead th {\n",
       "        text-align: right;\n",
       "    }\n",
       "</style>\n",
       "<table border=\"1\" class=\"dataframe\">\n",
       "  <thead>\n",
       "    <tr style=\"text-align: right;\">\n",
       "      <th></th>\n",
       "      <th>Event.Id</th>\n",
       "      <th>Investigation.Type</th>\n",
       "      <th>Accident.Number</th>\n",
       "      <th>Event.Date</th>\n",
       "      <th>Location</th>\n",
       "      <th>Country</th>\n",
       "      <th>Latitude</th>\n",
       "      <th>Longitude</th>\n",
       "      <th>Airport.Code</th>\n",
       "      <th>Airport.Name</th>\n",
       "      <th>...</th>\n",
       "      <th>Total.Serious.Injuries</th>\n",
       "      <th>Total.Minor.Injuries</th>\n",
       "      <th>Total.Uninjured</th>\n",
       "      <th>Weather.Condition</th>\n",
       "      <th>Broad.phase.of.flight</th>\n",
       "      <th>Report.Status</th>\n",
       "      <th>Publication.Date</th>\n",
       "      <th>Aircraft_type</th>\n",
       "      <th>Severity.Score</th>\n",
       "      <th>Event.Year</th>\n",
       "    </tr>\n",
       "  </thead>\n",
       "  <tbody>\n",
       "    <tr>\n",
       "      <th>230</th>\n",
       "      <td>20020917X01910</td>\n",
       "      <td>1</td>\n",
       "      <td>DCA82AA014</td>\n",
       "      <td>1982-02-03</td>\n",
       "      <td>PHILADELPHIA, PA</td>\n",
       "      <td>United States</td>\n",
       "      <td>NaN</td>\n",
       "      <td>NaN</td>\n",
       "      <td>PHL</td>\n",
       "      <td>PHILADELPHIA INTL</td>\n",
       "      <td>...</td>\n",
       "      <td>1.0</td>\n",
       "      <td>0.0</td>\n",
       "      <td>154.0</td>\n",
       "      <td>IMC</td>\n",
       "      <td>Takeoff</td>\n",
       "      <td>Probable Cause</td>\n",
       "      <td>03-02-1983</td>\n",
       "      <td>Mcdonnell-Douglas DC-10-10</td>\n",
       "      <td>1.0</td>\n",
       "      <td>1982</td>\n",
       "    </tr>\n",
       "    <tr>\n",
       "      <th>3578</th>\n",
       "      <td>20020917X04671</td>\n",
       "      <td>0</td>\n",
       "      <td>FTW83IA072</td>\n",
       "      <td>1982-12-30</td>\n",
       "      <td>THERMAL, CA</td>\n",
       "      <td>United States</td>\n",
       "      <td>NaN</td>\n",
       "      <td>NaN</td>\n",
       "      <td>TRM</td>\n",
       "      <td>NaN</td>\n",
       "      <td>...</td>\n",
       "      <td>0.0</td>\n",
       "      <td>14.0</td>\n",
       "      <td>203.0</td>\n",
       "      <td>VMC</td>\n",
       "      <td>Climb</td>\n",
       "      <td>Probable Cause</td>\n",
       "      <td>30-12-1983</td>\n",
       "      <td>Mcdonnell-Douglas DC-10-30</td>\n",
       "      <td>NaN</td>\n",
       "      <td>1982</td>\n",
       "    </tr>\n",
       "    <tr>\n",
       "      <th>4080</th>\n",
       "      <td>20001214X42476</td>\n",
       "      <td>0</td>\n",
       "      <td>LAX83IA140</td>\n",
       "      <td>1983-03-11</td>\n",
       "      <td>MINA, NV</td>\n",
       "      <td>United States</td>\n",
       "      <td>NaN</td>\n",
       "      <td>NaN</td>\n",
       "      <td>NaN</td>\n",
       "      <td>NaN</td>\n",
       "      <td>...</td>\n",
       "      <td>0.0</td>\n",
       "      <td>0.0</td>\n",
       "      <td>186.0</td>\n",
       "      <td>VMC</td>\n",
       "      <td>Climb</td>\n",
       "      <td>Probable Cause</td>\n",
       "      <td>NaN</td>\n",
       "      <td>Mcdonnell Douglas DC 8-61</td>\n",
       "      <td>1.0</td>\n",
       "      <td>1983</td>\n",
       "    </tr>\n",
       "    <tr>\n",
       "      <th>4764</th>\n",
       "      <td>20001214X42949</td>\n",
       "      <td>0</td>\n",
       "      <td>DEN83IA119</td>\n",
       "      <td>1983-05-23</td>\n",
       "      <td>COLORADO SPRING, CO</td>\n",
       "      <td>United States</td>\n",
       "      <td>NaN</td>\n",
       "      <td>NaN</td>\n",
       "      <td>NaN</td>\n",
       "      <td>NaN</td>\n",
       "      <td>...</td>\n",
       "      <td>0.0</td>\n",
       "      <td>0.0</td>\n",
       "      <td>25.0</td>\n",
       "      <td>VMC</td>\n",
       "      <td>Taxi</td>\n",
       "      <td>Probable Cause</td>\n",
       "      <td>NaN</td>\n",
       "      <td>Boeing 727-31H</td>\n",
       "      <td>1.0</td>\n",
       "      <td>1983</td>\n",
       "    </tr>\n",
       "    <tr>\n",
       "      <th>5476</th>\n",
       "      <td>20001214X43869</td>\n",
       "      <td>0</td>\n",
       "      <td>MKC83IA159</td>\n",
       "      <td>1983-07-16</td>\n",
       "      <td>ST. LOUIS, MO</td>\n",
       "      <td>United States</td>\n",
       "      <td>NaN</td>\n",
       "      <td>NaN</td>\n",
       "      <td>STL</td>\n",
       "      <td>LAMBERT-ST. LOUIS INTL.</td>\n",
       "      <td>...</td>\n",
       "      <td>0.0</td>\n",
       "      <td>0.0</td>\n",
       "      <td>65.0</td>\n",
       "      <td>VMC</td>\n",
       "      <td>Taxi</td>\n",
       "      <td>Probable Cause</td>\n",
       "      <td>NaN</td>\n",
       "      <td>Boeing 727-231A</td>\n",
       "      <td>1.0</td>\n",
       "      <td>1983</td>\n",
       "    </tr>\n",
       "    <tr>\n",
       "      <th>...</th>\n",
       "      <td>...</td>\n",
       "      <td>...</td>\n",
       "      <td>...</td>\n",
       "      <td>...</td>\n",
       "      <td>...</td>\n",
       "      <td>...</td>\n",
       "      <td>...</td>\n",
       "      <td>...</td>\n",
       "      <td>...</td>\n",
       "      <td>...</td>\n",
       "      <td>...</td>\n",
       "      <td>...</td>\n",
       "      <td>...</td>\n",
       "      <td>...</td>\n",
       "      <td>...</td>\n",
       "      <td>...</td>\n",
       "      <td>...</td>\n",
       "      <td>...</td>\n",
       "      <td>...</td>\n",
       "      <td>...</td>\n",
       "      <td>...</td>\n",
       "    </tr>\n",
       "    <tr>\n",
       "      <th>73107</th>\n",
       "      <td>20130118X53100</td>\n",
       "      <td>1</td>\n",
       "      <td>DCA13LA039</td>\n",
       "      <td>2013-01-17</td>\n",
       "      <td>Miami, FL</td>\n",
       "      <td>United States</td>\n",
       "      <td>254725N</td>\n",
       "      <td>0801630W</td>\n",
       "      <td>MIA</td>\n",
       "      <td>Miami Intl</td>\n",
       "      <td>...</td>\n",
       "      <td>0.0</td>\n",
       "      <td>0.0</td>\n",
       "      <td>397.0</td>\n",
       "      <td>VMC</td>\n",
       "      <td>NaN</td>\n",
       "      <td>LV-BMT flight crew's incorrect evaluation of t...</td>\n",
       "      <td>25-09-2020</td>\n",
       "      <td>Airbus A340 - 300</td>\n",
       "      <td>1.0</td>\n",
       "      <td>2013</td>\n",
       "    </tr>\n",
       "    <tr>\n",
       "      <th>74427</th>\n",
       "      <td>20131126X01052</td>\n",
       "      <td>0</td>\n",
       "      <td>ENG14WA003</td>\n",
       "      <td>2013-10-24</td>\n",
       "      <td>Norwich, Norfolk, UK, United Kingdom</td>\n",
       "      <td>United Kingdom</td>\n",
       "      <td>524033N</td>\n",
       "      <td>0011658E</td>\n",
       "      <td>NaN</td>\n",
       "      <td>NaN</td>\n",
       "      <td>...</td>\n",
       "      <td>0.0</td>\n",
       "      <td>0.0</td>\n",
       "      <td>1.0</td>\n",
       "      <td>VMC</td>\n",
       "      <td>NaN</td>\n",
       "      <td>&lt;br /&gt;&lt;br /&gt;</td>\n",
       "      <td>03-11-2020</td>\n",
       "      <td>Bae Systems (Operations) Limit AVRO 146-RJ85</td>\n",
       "      <td>1.0</td>\n",
       "      <td>2013</td>\n",
       "    </tr>\n",
       "    <tr>\n",
       "      <th>75002</th>\n",
       "      <td>20140522X83340</td>\n",
       "      <td>0</td>\n",
       "      <td>ENG14RA014</td>\n",
       "      <td>2014-04-29</td>\n",
       "      <td>Perth, Australia, Australia</td>\n",
       "      <td>Australia</td>\n",
       "      <td>NaN</td>\n",
       "      <td>NaN</td>\n",
       "      <td>PER</td>\n",
       "      <td>Perth</td>\n",
       "      <td>...</td>\n",
       "      <td>0.0</td>\n",
       "      <td>0.0</td>\n",
       "      <td>0.0</td>\n",
       "      <td>VMC</td>\n",
       "      <td>NaN</td>\n",
       "      <td>&lt;br /&gt;&lt;br /&gt;</td>\n",
       "      <td>03-11-2020</td>\n",
       "      <td>Bae AVRO146RJ - 100</td>\n",
       "      <td>1.0</td>\n",
       "      <td>2014</td>\n",
       "    </tr>\n",
       "    <tr>\n",
       "      <th>75950</th>\n",
       "      <td>20141029X71059</td>\n",
       "      <td>0</td>\n",
       "      <td>DCA15WA015</td>\n",
       "      <td>2014-10-22</td>\n",
       "      <td>Frankfurt, Germany</td>\n",
       "      <td>Germany</td>\n",
       "      <td>NaN</td>\n",
       "      <td>NaN</td>\n",
       "      <td>NaN</td>\n",
       "      <td>NaN</td>\n",
       "      <td>...</td>\n",
       "      <td>0.0</td>\n",
       "      <td>0.0</td>\n",
       "      <td>0.0</td>\n",
       "      <td>VMC</td>\n",
       "      <td>NaN</td>\n",
       "      <td>NaN</td>\n",
       "      <td>25-09-2020</td>\n",
       "      <td>Boeing 747 422</td>\n",
       "      <td>1.0</td>\n",
       "      <td>2014</td>\n",
       "    </tr>\n",
       "    <tr>\n",
       "      <th>80847</th>\n",
       "      <td>20171114X30932</td>\n",
       "      <td>0</td>\n",
       "      <td>ENG18RA004</td>\n",
       "      <td>2017-11-08</td>\n",
       "      <td>Johannesburg, South Africa</td>\n",
       "      <td>South Africa</td>\n",
       "      <td>NaN</td>\n",
       "      <td>NaN</td>\n",
       "      <td>NaN</td>\n",
       "      <td>NaN</td>\n",
       "      <td>...</td>\n",
       "      <td>0.0</td>\n",
       "      <td>0.0</td>\n",
       "      <td>0.0</td>\n",
       "      <td>VMC</td>\n",
       "      <td>NaN</td>\n",
       "      <td>NaN</td>\n",
       "      <td>25-09-2020</td>\n",
       "      <td>British Aerospace AVRO  146</td>\n",
       "      <td>1.0</td>\n",
       "      <td>2017</td>\n",
       "    </tr>\n",
       "  </tbody>\n",
       "</table>\n",
       "<p>88 rows × 32 columns</p>\n",
       "</div>"
      ],
      "text/plain": [
       "             Event.Id  Investigation.Type Accident.Number Event.Date  \\\n",
       "230    20020917X01910                   1      DCA82AA014 1982-02-03   \n",
       "3578   20020917X04671                   0      FTW83IA072 1982-12-30   \n",
       "4080   20001214X42476                   0      LAX83IA140 1983-03-11   \n",
       "4764   20001214X42949                   0      DEN83IA119 1983-05-23   \n",
       "5476   20001214X43869                   0      MKC83IA159 1983-07-16   \n",
       "...               ...                 ...             ...        ...   \n",
       "73107  20130118X53100                   1      DCA13LA039 2013-01-17   \n",
       "74427  20131126X01052                   0      ENG14WA003 2013-10-24   \n",
       "75002  20140522X83340                   0      ENG14RA014 2014-04-29   \n",
       "75950  20141029X71059                   0      DCA15WA015 2014-10-22   \n",
       "80847  20171114X30932                   0      ENG18RA004 2017-11-08   \n",
       "\n",
       "                                   Location         Country Latitude  \\\n",
       "230                        PHILADELPHIA, PA   United States      NaN   \n",
       "3578                            THERMAL, CA   United States      NaN   \n",
       "4080                               MINA, NV   United States      NaN   \n",
       "4764                    COLORADO SPRING, CO   United States      NaN   \n",
       "5476                          ST. LOUIS, MO   United States      NaN   \n",
       "...                                     ...             ...      ...   \n",
       "73107                             Miami, FL   United States  254725N   \n",
       "74427  Norwich, Norfolk, UK, United Kingdom  United Kingdom  524033N   \n",
       "75002           Perth, Australia, Australia       Australia      NaN   \n",
       "75950                    Frankfurt, Germany         Germany      NaN   \n",
       "80847            Johannesburg, South Africa    South Africa      NaN   \n",
       "\n",
       "      Longitude Airport.Code             Airport.Name  ...  \\\n",
       "230         NaN          PHL        PHILADELPHIA INTL  ...   \n",
       "3578        NaN          TRM                      NaN  ...   \n",
       "4080        NaN          NaN                      NaN  ...   \n",
       "4764        NaN          NaN                      NaN  ...   \n",
       "5476        NaN          STL  LAMBERT-ST. LOUIS INTL.  ...   \n",
       "...         ...          ...                      ...  ...   \n",
       "73107  0801630W          MIA               Miami Intl  ...   \n",
       "74427  0011658E          NaN                      NaN  ...   \n",
       "75002       NaN          PER                    Perth  ...   \n",
       "75950       NaN          NaN                      NaN  ...   \n",
       "80847       NaN          NaN                      NaN  ...   \n",
       "\n",
       "      Total.Serious.Injuries Total.Minor.Injuries Total.Uninjured  \\\n",
       "230                      1.0                  0.0           154.0   \n",
       "3578                     0.0                 14.0           203.0   \n",
       "4080                     0.0                  0.0           186.0   \n",
       "4764                     0.0                  0.0            25.0   \n",
       "5476                     0.0                  0.0            65.0   \n",
       "...                      ...                  ...             ...   \n",
       "73107                    0.0                  0.0           397.0   \n",
       "74427                    0.0                  0.0             1.0   \n",
       "75002                    0.0                  0.0             0.0   \n",
       "75950                    0.0                  0.0             0.0   \n",
       "80847                    0.0                  0.0             0.0   \n",
       "\n",
       "      Weather.Condition Broad.phase.of.flight  \\\n",
       "230                 IMC               Takeoff   \n",
       "3578                VMC                 Climb   \n",
       "4080                VMC                 Climb   \n",
       "4764                VMC                  Taxi   \n",
       "5476                VMC                  Taxi   \n",
       "...                 ...                   ...   \n",
       "73107               VMC                   NaN   \n",
       "74427               VMC                   NaN   \n",
       "75002               VMC                   NaN   \n",
       "75950               VMC                   NaN   \n",
       "80847               VMC                   NaN   \n",
       "\n",
       "                                           Report.Status  Publication.Date  \\\n",
       "230                                       Probable Cause        03-02-1983   \n",
       "3578                                      Probable Cause        30-12-1983   \n",
       "4080                                      Probable Cause               NaN   \n",
       "4764                                      Probable Cause               NaN   \n",
       "5476                                      Probable Cause               NaN   \n",
       "...                                                  ...               ...   \n",
       "73107  LV-BMT flight crew's incorrect evaluation of t...        25-09-2020   \n",
       "74427                                       <br /><br />        03-11-2020   \n",
       "75002                                       <br /><br />        03-11-2020   \n",
       "75950                                                NaN        25-09-2020   \n",
       "80847                                                NaN        25-09-2020   \n",
       "\n",
       "                                      Aircraft_type Severity.Score Event.Year  \n",
       "230                      Mcdonnell-Douglas DC-10-10            1.0       1982  \n",
       "3578                     Mcdonnell-Douglas DC-10-30            NaN       1982  \n",
       "4080                      Mcdonnell Douglas DC 8-61            1.0       1983  \n",
       "4764                                 Boeing 727-31H            1.0       1983  \n",
       "5476                                Boeing 727-231A            1.0       1983  \n",
       "...                                             ...            ...        ...  \n",
       "73107                             Airbus A340 - 300            1.0       2013  \n",
       "74427  Bae Systems (Operations) Limit AVRO 146-RJ85            1.0       2013  \n",
       "75002                           Bae AVRO146RJ - 100            1.0       2014  \n",
       "75950                                Boeing 747 422            1.0       2014  \n",
       "80847                   British Aerospace AVRO  146            1.0       2017  \n",
       "\n",
       "[88 rows x 32 columns]"
      ]
     },
     "execution_count": 2027,
     "metadata": {},
     "output_type": "execute_result"
    }
   ],
   "source": [
    "filtered_df"
   ]
  },
  {
   "cell_type": "code",
   "execution_count": 2028,
   "id": "e99bfa81-fe20-4c37-9e7f-7204719e0520",
   "metadata": {},
   "outputs": [],
   "source": [
    "#importing cleaned version\n",
    "filtered_df.to_csv('Cleaned_Data.csv', index= True)"
   ]
  },
  {
   "cell_type": "markdown",
   "id": "b1cf30fd-3f87-4399-adc0-54135ebb0041",
   "metadata": {},
   "source": [
    "# Conclusion\n",
    "**1. Trends in Accidents**\n",
    "Accidents have significantly decreased over time, which is a sign of continuous advancements in aviation technology, safety rules, training requirements, and maintenance procedures.\n",
    "\n",
    "**2. Safety and Engine Configuration**\n",
    "Single-engine aircraft suffered the most significant and total destruction, though this may have more to do with their frequent use in general aviation than with any inherent danger. Although multi-engine aircraft tend to appear slightly safer in severity scoring, no engine type is significantly riskier when normalised by damage severity scores.\n",
    "\n",
    "**3. Type of Engine and Safety**\n",
    "Engines with an average severity score of less than two, which prioritises minor damage over significant or destroyed damage, seem to be the safest. We filter our dataframe so that `Engine.Type`are only those with minor damages. These engine types could be prioritised when considering aircraft design and procurement\n",
    "\n",
    "**4. Incident and accident**\n",
    "Both incident and accident types provide essential insights for aviation safety investigations. Incidents reveal underlying hazards and near-misses that can be addressed proactively, while accidents highlight the consequences of unresolved risks. Analyzing both helps us form a comprehensive view of aircraft safety, identify patterns, and recommend effective preventive strategies.."
   ]
  },
  {
   "cell_type": "markdown",
   "id": "880d950e-f91f-41c2-97f0-4861c6fe5d6e",
   "metadata": {},
   "source": [
    "## Properties of Safer Aircraft\n",
    "1. Use safer engine types(with severity score < 2)\n",
    "2. Have more than one engine( with severity score < 2)\n",
    "3. Belong to the safer aircraft type"
   ]
  }
 ],
 "metadata": {
  "kernelspec": {
   "display_name": "Python 3 (ipykernel)",
   "language": "python",
   "name": "python3"
  },
  "language_info": {
   "codemirror_mode": {
    "name": "ipython",
    "version": 3
   },
   "file_extension": ".py",
   "mimetype": "text/x-python",
   "name": "python",
   "nbconvert_exporter": "python",
   "pygments_lexer": "ipython3",
   "version": "3.12.7"
  }
 },
 "nbformat": 4,
 "nbformat_minor": 5
}
